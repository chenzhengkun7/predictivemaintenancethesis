{
 "cells": [
  {
   "cell_type": "markdown",
   "metadata": {
    "Collapsed": "false"
   },
   "source": [
    "# Failure Prediction on Azure Telemetry Data Set"
   ]
  },
  {
   "cell_type": "code",
   "execution_count": 1,
   "metadata": {
    "Collapsed": "false"
   },
   "outputs": [],
   "source": [
    "# Enable autoreloading\n",
    "%reload_ext autoreload\n",
    "%autoreload 2"
   ]
  },
  {
   "cell_type": "code",
   "execution_count": 2,
   "metadata": {
    "Collapsed": "false"
   },
   "outputs": [],
   "source": [
    "import numpy as np\n",
    "import matplotlib.pyplot as plt\n",
    "import multiprocessing\n",
    "import pandas as pd\n",
    "import seaborn as sns\n",
    "import string\n",
    "\n",
    "from pathlib import Path\n",
    "from tqdm import tqdm\n",
    "from sklearn.metrics import (f1_score,\n",
    "                             make_scorer,\n",
    "                             recall_score,\n",
    "                             precision_recall_curve,\n",
    "                             precision_score)\n",
    "from sklearn.model_selection import (GroupKFold,\n",
    "                                     RandomizedSearchCV,\n",
    "                                     train_test_split)\n",
    "from tqdm import tqdm\n",
    "from urllib.parse import urljoin\n",
    "from urllib.request import urlopen\n",
    "from xgboost import XGBClassifier\n",
    "\n",
    "from pmlib.data_transformation import split_data\n",
    "from pmlib.evaluation.classical import auprg_score\n",
    "from pmlib.evaluation.event_based import (f1_reduced_score,\n",
    "                                          precision_reduced_score,\n",
    "                                          recall_reduced_score)\n",
    "from pmlib.evaluation.utils import series_scorer\n",
    "from pmlib.feature_extraction import (create_features_last_event_time,\n",
    "                                      prepare_events_data, unstack)\n",
    "from pmlib.modeling import PredictiveMaintenanceModel\n",
    "from pmlib.preprocessing import create_series_id, filter_short_series"
   ]
  },
  {
   "cell_type": "code",
   "execution_count": 3,
   "metadata": {
    "Collapsed": "false"
   },
   "outputs": [],
   "source": [
    "N_JOBS = 32\n",
    "RANDOM_STATE = 7"
   ]
  },
  {
   "cell_type": "code",
   "execution_count": null,
   "metadata": {
    "Collapsed": "false"
   },
   "outputs": [],
   "source": [
    "!mkdir -p ./data/azure/\n",
    "!mkdir -p ./images/azure/"
   ]
  },
  {
   "cell_type": "markdown",
   "metadata": {
    "Collapsed": "false"
   },
   "source": [
    "# Load Data"
   ]
  },
  {
   "cell_type": "code",
   "execution_count": 10,
   "metadata": {
    "Collapsed": "false"
   },
   "outputs": [],
   "source": [
    "BASE_URL = 'https://azuremlsampleexperiments.blob.core.windows.net/datasets/'\n",
    "DATA_DIR = Path('./data/azure')"
   ]
  },
  {
   "cell_type": "code",
   "execution_count": 6,
   "metadata": {
    "Collapsed": "false"
   },
   "outputs": [],
   "source": [
    "def load_azure_pdm_data_set():\n",
    "\n",
    "    def _download_azure_data_set_file(file_name):\n",
    "        try:\n",
    "            df = pd.read_csv(DATA_DIR / file_name)\n",
    "        except:\n",
    "            with urlopen(urljoin(BASE_URL, file_name)) as f:\n",
    "                df = pd.read_csv(f)\n",
    "            df.to_csv(DATA_DIR / file_name, index=False)\n",
    "        if 'datetime' in df.columns:\n",
    "            df['datetime'] = pd.to_datetime(df['datetime'])\n",
    "        return df\n",
    "    \n",
    "    telemetry = _download_azure_data_set_file('PdM_telemetry.csv')\n",
    "    errors = _download_azure_data_set_file('PdM_errors.csv')\n",
    "    machines = _download_azure_data_set_file('PdM_machines.csv')\n",
    "    failures = _download_azure_data_set_file('PdM_failures.csv')\n",
    "    maintenance = _download_azure_data_set_file('PdM_maint.csv')\n",
    "    return telemetry, errors, machines, failures, maintenance"
   ]
  },
  {
   "cell_type": "code",
   "execution_count": 11,
   "metadata": {
    "Collapsed": "false"
   },
   "outputs": [],
   "source": [
    "telemetry, errors, machines, failures, maintenance = load_azure_pdm_data_set()"
   ]
  },
  {
   "cell_type": "markdown",
   "metadata": {
    "Collapsed": "false"
   },
   "source": [
    "# Preprocess Data"
   ]
  },
  {
   "cell_type": "code",
   "execution_count": 13,
   "metadata": {
    "Collapsed": "false"
   },
   "outputs": [],
   "source": [
    "subject_id_col = 'machineID'\n",
    "time_col = 'datetime'"
   ]
  },
  {
   "cell_type": "markdown",
   "metadata": {
    "Collapsed": "false"
   },
   "source": [
    "## Preprocess and Merge Data Sources"
   ]
  },
  {
   "cell_type": "markdown",
   "metadata": {
    "Collapsed": "false"
   },
   "source": [
    "### Telemetry Data"
   ]
  },
  {
   "cell_type": "code",
   "execution_count": 14,
   "metadata": {
    "Collapsed": "false"
   },
   "outputs": [],
   "source": [
    "telemetry_preprocessed = telemetry.set_index([subject_id_col, time_col]).add_prefix('telemetry_raw_').reset_index()\n",
    "feature_cols_telemetry = telemetry.columns[telemetry.columns.str.startswith('telemetry_raw')]"
   ]
  },
  {
   "cell_type": "code",
   "execution_count": 15,
   "metadata": {
    "Collapsed": "false"
   },
   "outputs": [
    {
     "data": {
      "text/html": [
       "<div>\n",
       "<style scoped>\n",
       "    .dataframe tbody tr th:only-of-type {\n",
       "        vertical-align: middle;\n",
       "    }\n",
       "\n",
       "    .dataframe tbody tr th {\n",
       "        vertical-align: top;\n",
       "    }\n",
       "\n",
       "    .dataframe thead th {\n",
       "        text-align: right;\n",
       "    }\n",
       "</style>\n",
       "<table border=\"1\" class=\"dataframe\">\n",
       "  <thead>\n",
       "    <tr style=\"text-align: right;\">\n",
       "      <th></th>\n",
       "      <th>machineID</th>\n",
       "      <th>datetime</th>\n",
       "    </tr>\n",
       "  </thead>\n",
       "  <tbody>\n",
       "    <tr>\n",
       "      <th>656252</th>\n",
       "      <td>75</td>\n",
       "      <td>2015-11-28 00:00:00</td>\n",
       "    </tr>\n",
       "    <tr>\n",
       "      <th>749474</th>\n",
       "      <td>86</td>\n",
       "      <td>2015-07-19 19:00:00</td>\n",
       "    </tr>\n",
       "    <tr>\n",
       "      <th>722728</th>\n",
       "      <td>83</td>\n",
       "      <td>2015-06-30 12:00:00</td>\n",
       "    </tr>\n",
       "    <tr>\n",
       "      <th>434639</th>\n",
       "      <td>50</td>\n",
       "      <td>2015-08-12 04:00:00</td>\n",
       "    </tr>\n",
       "    <tr>\n",
       "      <th>50249</th>\n",
       "      <td>6</td>\n",
       "      <td>2015-09-26 18:00:00</td>\n",
       "    </tr>\n",
       "  </tbody>\n",
       "</table>\n",
       "</div>"
      ],
      "text/plain": [
       "        machineID            datetime\n",
       "656252         75 2015-11-28 00:00:00\n",
       "749474         86 2015-07-19 19:00:00\n",
       "722728         83 2015-06-30 12:00:00\n",
       "434639         50 2015-08-12 04:00:00\n",
       "50249           6 2015-09-26 18:00:00"
      ]
     },
     "execution_count": 15,
     "metadata": {},
     "output_type": "execute_result"
    }
   ],
   "source": [
    "base_df = (\n",
    "    telemetry[[subject_id_col, time_col]]\n",
    "    .sort_values([subject_id_col, time_col])\n",
    "    .reset_index(drop=True)\n",
    ")\n",
    "\n",
    "base_df.sample(5, random_state=RANDOM_STATE)"
   ]
  },
  {
   "cell_type": "markdown",
   "metadata": {
    "Collapsed": "false"
   },
   "source": [
    "### Machines Static Data"
   ]
  },
  {
   "cell_type": "code",
   "execution_count": 16,
   "metadata": {
    "Collapsed": "false"
   },
   "outputs": [
    {
     "data": {
      "text/html": [
       "<div>\n",
       "<style scoped>\n",
       "    .dataframe tbody tr th:only-of-type {\n",
       "        vertical-align: middle;\n",
       "    }\n",
       "\n",
       "    .dataframe tbody tr th {\n",
       "        vertical-align: top;\n",
       "    }\n",
       "\n",
       "    .dataframe thead th {\n",
       "        text-align: right;\n",
       "    }\n",
       "</style>\n",
       "<table border=\"1\" class=\"dataframe\">\n",
       "  <thead>\n",
       "    <tr style=\"text-align: right;\">\n",
       "      <th></th>\n",
       "      <th>machineID</th>\n",
       "      <th>model</th>\n",
       "      <th>age</th>\n",
       "    </tr>\n",
       "  </thead>\n",
       "  <tbody>\n",
       "    <tr>\n",
       "      <th>37</th>\n",
       "      <td>38</td>\n",
       "      <td>model4</td>\n",
       "      <td>15</td>\n",
       "    </tr>\n",
       "    <tr>\n",
       "      <th>26</th>\n",
       "      <td>27</td>\n",
       "      <td>model3</td>\n",
       "      <td>9</td>\n",
       "    </tr>\n",
       "    <tr>\n",
       "      <th>78</th>\n",
       "      <td>79</td>\n",
       "      <td>model3</td>\n",
       "      <td>14</td>\n",
       "    </tr>\n",
       "    <tr>\n",
       "      <th>91</th>\n",
       "      <td>92</td>\n",
       "      <td>model1</td>\n",
       "      <td>2</td>\n",
       "    </tr>\n",
       "    <tr>\n",
       "      <th>49</th>\n",
       "      <td>50</td>\n",
       "      <td>model4</td>\n",
       "      <td>4</td>\n",
       "    </tr>\n",
       "  </tbody>\n",
       "</table>\n",
       "</div>"
      ],
      "text/plain": [
       "    machineID   model  age\n",
       "37         38  model4   15\n",
       "26         27  model3    9\n",
       "78         79  model3   14\n",
       "91         92  model1    2\n",
       "49         50  model4    4"
      ]
     },
     "execution_count": 16,
     "metadata": {},
     "output_type": "execute_result"
    }
   ],
   "source": [
    "machines.sample(5, random_state=RANDOM_STATE)"
   ]
  },
  {
   "cell_type": "code",
   "execution_count": 17,
   "metadata": {
    "Collapsed": "false"
   },
   "outputs": [
    {
     "data": {
      "text/html": [
       "<div>\n",
       "<style scoped>\n",
       "    .dataframe tbody tr th:only-of-type {\n",
       "        vertical-align: middle;\n",
       "    }\n",
       "\n",
       "    .dataframe tbody tr th {\n",
       "        vertical-align: top;\n",
       "    }\n",
       "\n",
       "    .dataframe thead th {\n",
       "        text-align: right;\n",
       "    }\n",
       "</style>\n",
       "<table border=\"1\" class=\"dataframe\">\n",
       "  <thead>\n",
       "    <tr style=\"text-align: right;\">\n",
       "      <th></th>\n",
       "      <th>machineID</th>\n",
       "      <th>model1</th>\n",
       "      <th>model2</th>\n",
       "      <th>model3</th>\n",
       "      <th>model4</th>\n",
       "      <th>age</th>\n",
       "    </tr>\n",
       "  </thead>\n",
       "  <tbody>\n",
       "    <tr>\n",
       "      <th>37</th>\n",
       "      <td>38</td>\n",
       "      <td>0</td>\n",
       "      <td>0</td>\n",
       "      <td>0</td>\n",
       "      <td>1</td>\n",
       "      <td>15</td>\n",
       "    </tr>\n",
       "    <tr>\n",
       "      <th>26</th>\n",
       "      <td>27</td>\n",
       "      <td>0</td>\n",
       "      <td>0</td>\n",
       "      <td>1</td>\n",
       "      <td>0</td>\n",
       "      <td>9</td>\n",
       "    </tr>\n",
       "    <tr>\n",
       "      <th>78</th>\n",
       "      <td>79</td>\n",
       "      <td>0</td>\n",
       "      <td>0</td>\n",
       "      <td>1</td>\n",
       "      <td>0</td>\n",
       "      <td>14</td>\n",
       "    </tr>\n",
       "    <tr>\n",
       "      <th>91</th>\n",
       "      <td>92</td>\n",
       "      <td>1</td>\n",
       "      <td>0</td>\n",
       "      <td>0</td>\n",
       "      <td>0</td>\n",
       "      <td>2</td>\n",
       "    </tr>\n",
       "    <tr>\n",
       "      <th>49</th>\n",
       "      <td>50</td>\n",
       "      <td>0</td>\n",
       "      <td>0</td>\n",
       "      <td>0</td>\n",
       "      <td>1</td>\n",
       "      <td>4</td>\n",
       "    </tr>\n",
       "  </tbody>\n",
       "</table>\n",
       "</div>"
      ],
      "text/plain": [
       "    machineID  model1  model2  model3  model4  age\n",
       "37         38       0       0       0       1   15\n",
       "26         27       0       0       1       0    9\n",
       "78         79       0       0       1       0   14\n",
       "91         92       1       0       0       0    2\n",
       "49         50       0       0       0       1    4"
      ]
     },
     "execution_count": 17,
     "metadata": {},
     "output_type": "execute_result"
    }
   ],
   "source": [
    "machines_preprocessed = (\n",
    "    unstack(machines, col='model', groupby_cols='machineID')\n",
    "    .merge(machines[['machineID', 'age']], on='machineID')\n",
    ")\n",
    "machines_preprocessed.sample(5, random_state=RANDOM_STATE)"
   ]
  },
  {
   "cell_type": "markdown",
   "metadata": {
    "Collapsed": "false"
   },
   "source": [
    "### Error Log"
   ]
  },
  {
   "cell_type": "code",
   "execution_count": 18,
   "metadata": {
    "Collapsed": "false"
   },
   "outputs": [
    {
     "data": {
      "text/html": [
       "<div>\n",
       "<style scoped>\n",
       "    .dataframe tbody tr th:only-of-type {\n",
       "        vertical-align: middle;\n",
       "    }\n",
       "\n",
       "    .dataframe tbody tr th {\n",
       "        vertical-align: top;\n",
       "    }\n",
       "\n",
       "    .dataframe thead th {\n",
       "        text-align: right;\n",
       "    }\n",
       "</style>\n",
       "<table border=\"1\" class=\"dataframe\">\n",
       "  <thead>\n",
       "    <tr style=\"text-align: right;\">\n",
       "      <th></th>\n",
       "      <th>datetime</th>\n",
       "      <th>machineID</th>\n",
       "      <th>errorID</th>\n",
       "    </tr>\n",
       "  </thead>\n",
       "  <tbody>\n",
       "    <tr>\n",
       "      <th>2134</th>\n",
       "      <td>2015-12-01 06:00:00</td>\n",
       "      <td>55</td>\n",
       "      <td>error1</td>\n",
       "    </tr>\n",
       "    <tr>\n",
       "      <th>3328</th>\n",
       "      <td>2015-06-26 12:00:00</td>\n",
       "      <td>86</td>\n",
       "      <td>error4</td>\n",
       "    </tr>\n",
       "    <tr>\n",
       "      <th>1549</th>\n",
       "      <td>2015-10-30 12:00:00</td>\n",
       "      <td>40</td>\n",
       "      <td>error3</td>\n",
       "    </tr>\n",
       "    <tr>\n",
       "      <th>694</th>\n",
       "      <td>2015-08-01 08:00:00</td>\n",
       "      <td>18</td>\n",
       "      <td>error3</td>\n",
       "    </tr>\n",
       "    <tr>\n",
       "      <th>632</th>\n",
       "      <td>2015-05-24 16:00:00</td>\n",
       "      <td>17</td>\n",
       "      <td>error3</td>\n",
       "    </tr>\n",
       "  </tbody>\n",
       "</table>\n",
       "</div>"
      ],
      "text/plain": [
       "                datetime  machineID errorID\n",
       "2134 2015-12-01 06:00:00         55  error1\n",
       "3328 2015-06-26 12:00:00         86  error4\n",
       "1549 2015-10-30 12:00:00         40  error3\n",
       "694  2015-08-01 08:00:00         18  error3\n",
       "632  2015-05-24 16:00:00         17  error3"
      ]
     },
     "execution_count": 18,
     "metadata": {},
     "output_type": "execute_result"
    }
   ],
   "source": [
    "errors.sample(5, random_state=RANDOM_STATE)"
   ]
  },
  {
   "cell_type": "code",
   "execution_count": 19,
   "metadata": {
    "Collapsed": "false"
   },
   "outputs": [
    {
     "data": {
      "text/html": [
       "<div>\n",
       "<style scoped>\n",
       "    .dataframe tbody tr th:only-of-type {\n",
       "        vertical-align: middle;\n",
       "    }\n",
       "\n",
       "    .dataframe tbody tr th {\n",
       "        vertical-align: top;\n",
       "    }\n",
       "\n",
       "    .dataframe thead th {\n",
       "        text-align: right;\n",
       "    }\n",
       "</style>\n",
       "<table border=\"1\" class=\"dataframe\">\n",
       "  <thead>\n",
       "    <tr style=\"text-align: right;\">\n",
       "      <th></th>\n",
       "      <th>machineID</th>\n",
       "      <th>datetime</th>\n",
       "      <th>error1</th>\n",
       "      <th>error2</th>\n",
       "      <th>error3</th>\n",
       "      <th>error4</th>\n",
       "      <th>error5</th>\n",
       "      <th>time_since_error1</th>\n",
       "      <th>time_since_error2</th>\n",
       "      <th>time_since_error3</th>\n",
       "      <th>time_since_error4</th>\n",
       "      <th>time_since_error5</th>\n",
       "    </tr>\n",
       "  </thead>\n",
       "  <tbody>\n",
       "    <tr>\n",
       "      <th>656252</th>\n",
       "      <td>75</td>\n",
       "      <td>2015-11-28 00:00:00</td>\n",
       "      <td>0</td>\n",
       "      <td>0</td>\n",
       "      <td>0</td>\n",
       "      <td>0</td>\n",
       "      <td>0</td>\n",
       "      <td>76 days 10:00:00</td>\n",
       "      <td>13 days 03:00:00</td>\n",
       "      <td>2 days 00:00:00</td>\n",
       "      <td>198 days 14:00:00</td>\n",
       "      <td>85 days 18:00:00</td>\n",
       "    </tr>\n",
       "    <tr>\n",
       "      <th>749474</th>\n",
       "      <td>86</td>\n",
       "      <td>2015-07-19 19:00:00</td>\n",
       "      <td>0</td>\n",
       "      <td>0</td>\n",
       "      <td>0</td>\n",
       "      <td>0</td>\n",
       "      <td>0</td>\n",
       "      <td>50 days 12:00:00</td>\n",
       "      <td>178 days 13:00:00</td>\n",
       "      <td>3 days 21:00:00</td>\n",
       "      <td>23 days 07:00:00</td>\n",
       "      <td>5 days 13:00:00</td>\n",
       "    </tr>\n",
       "    <tr>\n",
       "      <th>722728</th>\n",
       "      <td>83</td>\n",
       "      <td>2015-06-30 12:00:00</td>\n",
       "      <td>0</td>\n",
       "      <td>0</td>\n",
       "      <td>0</td>\n",
       "      <td>0</td>\n",
       "      <td>0</td>\n",
       "      <td>82 days 06:00:00</td>\n",
       "      <td>31 days 06:00:00</td>\n",
       "      <td>31 days 06:00:00</td>\n",
       "      <td>2 days 00:00:00</td>\n",
       "      <td>29 days 14:00:00</td>\n",
       "    </tr>\n",
       "    <tr>\n",
       "      <th>434639</th>\n",
       "      <td>50</td>\n",
       "      <td>2015-08-12 04:00:00</td>\n",
       "      <td>0</td>\n",
       "      <td>0</td>\n",
       "      <td>0</td>\n",
       "      <td>0</td>\n",
       "      <td>0</td>\n",
       "      <td>5 days 19:00:00</td>\n",
       "      <td>38 days 13:00:00</td>\n",
       "      <td>17 days 15:00:00</td>\n",
       "      <td>110 days 02:00:00</td>\n",
       "      <td>106 days 09:00:00</td>\n",
       "    </tr>\n",
       "    <tr>\n",
       "      <th>50249</th>\n",
       "      <td>6</td>\n",
       "      <td>2015-09-26 18:00:00</td>\n",
       "      <td>0</td>\n",
       "      <td>0</td>\n",
       "      <td>0</td>\n",
       "      <td>0</td>\n",
       "      <td>0</td>\n",
       "      <td>7 days 22:00:00</td>\n",
       "      <td>0 days 10:00:00</td>\n",
       "      <td>156 days 02:00:00</td>\n",
       "      <td>37 days 12:00:00</td>\n",
       "      <td>125 days 10:00:00</td>\n",
       "    </tr>\n",
       "  </tbody>\n",
       "</table>\n",
       "</div>"
      ],
      "text/plain": [
       "        machineID            datetime  error1  error2  error3  error4  error5  \\\n",
       "656252         75 2015-11-28 00:00:00       0       0       0       0       0   \n",
       "749474         86 2015-07-19 19:00:00       0       0       0       0       0   \n",
       "722728         83 2015-06-30 12:00:00       0       0       0       0       0   \n",
       "434639         50 2015-08-12 04:00:00       0       0       0       0       0   \n",
       "50249           6 2015-09-26 18:00:00       0       0       0       0       0   \n",
       "\n",
       "       time_since_error1 time_since_error2 time_since_error3  \\\n",
       "656252  76 days 10:00:00  13 days 03:00:00   2 days 00:00:00   \n",
       "749474  50 days 12:00:00 178 days 13:00:00   3 days 21:00:00   \n",
       "722728  82 days 06:00:00  31 days 06:00:00  31 days 06:00:00   \n",
       "434639   5 days 19:00:00  38 days 13:00:00  17 days 15:00:00   \n",
       "50249    7 days 22:00:00   0 days 10:00:00 156 days 02:00:00   \n",
       "\n",
       "       time_since_error4 time_since_error5  \n",
       "656252 198 days 14:00:00  85 days 18:00:00  \n",
       "749474  23 days 07:00:00   5 days 13:00:00  \n",
       "722728   2 days 00:00:00  29 days 14:00:00  \n",
       "434639 110 days 02:00:00 106 days 09:00:00  \n",
       "50249   37 days 12:00:00 125 days 10:00:00  "
      ]
     },
     "execution_count": 19,
     "metadata": {},
     "output_type": "execute_result"
    }
   ],
   "source": [
    "error_cols = [f'error{i}' for i in range(1, 6)]\n",
    "\n",
    "errors_preprocessed = (\n",
    "    errors\n",
    "    .rename(columns={'errorID': 'error'})\n",
    "    .pipe(unstack, col='error', groupby_cols=[subject_id_col, time_col], prefix=None)\n",
    "    .merge(base_df, on=[subject_id_col, time_col], how='right')\n",
    "    .fillna(0)\n",
    "    .sort_values([subject_id_col, time_col])\n",
    "    .reset_index(drop=True)\n",
    "    .pipe(prepare_events_data, base_data=base_df, subject_id_col=subject_id_col, time_col=time_col)\n",
    ")\n",
    "\n",
    "feature_cols_errors = errors_preprocessed.columns[errors_preprocessed.columns.str.startswith('time_since')]\n",
    "errors_preprocessed.sample(5, random_state=RANDOM_STATE)"
   ]
  },
  {
   "cell_type": "markdown",
   "metadata": {
    "Collapsed": "false"
   },
   "source": [
    "### Failures Log"
   ]
  },
  {
   "cell_type": "code",
   "execution_count": 20,
   "metadata": {
    "Collapsed": "false"
   },
   "outputs": [
    {
     "data": {
      "text/html": [
       "<div>\n",
       "<style scoped>\n",
       "    .dataframe tbody tr th:only-of-type {\n",
       "        vertical-align: middle;\n",
       "    }\n",
       "\n",
       "    .dataframe tbody tr th {\n",
       "        vertical-align: top;\n",
       "    }\n",
       "\n",
       "    .dataframe thead th {\n",
       "        text-align: right;\n",
       "    }\n",
       "</style>\n",
       "<table border=\"1\" class=\"dataframe\">\n",
       "  <thead>\n",
       "    <tr style=\"text-align: right;\">\n",
       "      <th></th>\n",
       "      <th>datetime</th>\n",
       "      <th>machineID</th>\n",
       "      <th>failure</th>\n",
       "    </tr>\n",
       "  </thead>\n",
       "  <tbody>\n",
       "    <tr>\n",
       "      <th>228</th>\n",
       "      <td>2015-05-22 06:00:00</td>\n",
       "      <td>31</td>\n",
       "      <td>comp1</td>\n",
       "    </tr>\n",
       "    <tr>\n",
       "      <th>737</th>\n",
       "      <td>2015-10-27 06:00:00</td>\n",
       "      <td>98</td>\n",
       "      <td>comp2</td>\n",
       "    </tr>\n",
       "    <tr>\n",
       "      <th>159</th>\n",
       "      <td>2015-12-04 06:00:00</td>\n",
       "      <td>21</td>\n",
       "      <td>comp2</td>\n",
       "    </tr>\n",
       "    <tr>\n",
       "      <th>409</th>\n",
       "      <td>2015-01-02 03:00:00</td>\n",
       "      <td>56</td>\n",
       "      <td>comp3</td>\n",
       "    </tr>\n",
       "    <tr>\n",
       "      <th>669</th>\n",
       "      <td>2015-02-01 06:00:00</td>\n",
       "      <td>91</td>\n",
       "      <td>comp2</td>\n",
       "    </tr>\n",
       "  </tbody>\n",
       "</table>\n",
       "</div>"
      ],
      "text/plain": [
       "               datetime  machineID failure\n",
       "228 2015-05-22 06:00:00         31   comp1\n",
       "737 2015-10-27 06:00:00         98   comp2\n",
       "159 2015-12-04 06:00:00         21   comp2\n",
       "409 2015-01-02 03:00:00         56   comp3\n",
       "669 2015-02-01 06:00:00         91   comp2"
      ]
     },
     "execution_count": 20,
     "metadata": {},
     "output_type": "execute_result"
    }
   ],
   "source": [
    "failures.sample(5, random_state=RANDOM_STATE)"
   ]
  },
  {
   "cell_type": "code",
   "execution_count": 21,
   "metadata": {
    "Collapsed": "false"
   },
   "outputs": [
    {
     "data": {
      "text/html": [
       "<div>\n",
       "<style scoped>\n",
       "    .dataframe tbody tr th:only-of-type {\n",
       "        vertical-align: middle;\n",
       "    }\n",
       "\n",
       "    .dataframe tbody tr th {\n",
       "        vertical-align: top;\n",
       "    }\n",
       "\n",
       "    .dataframe thead th {\n",
       "        text-align: right;\n",
       "    }\n",
       "</style>\n",
       "<table border=\"1\" class=\"dataframe\">\n",
       "  <thead>\n",
       "    <tr style=\"text-align: right;\">\n",
       "      <th></th>\n",
       "      <th>machineID</th>\n",
       "      <th>datetime</th>\n",
       "      <th>failure_comp1</th>\n",
       "      <th>failure_comp2</th>\n",
       "      <th>failure_comp3</th>\n",
       "      <th>failure_comp4</th>\n",
       "      <th>time_since_failure_comp1</th>\n",
       "      <th>time_since_failure_comp2</th>\n",
       "      <th>time_since_failure_comp3</th>\n",
       "      <th>time_since_failure_comp4</th>\n",
       "    </tr>\n",
       "  </thead>\n",
       "  <tbody>\n",
       "    <tr>\n",
       "      <th>656252</th>\n",
       "      <td>75</td>\n",
       "      <td>2015-11-28 00:00:00</td>\n",
       "      <td>0</td>\n",
       "      <td>0</td>\n",
       "      <td>0</td>\n",
       "      <td>0</td>\n",
       "      <td>234 days 18:00:00</td>\n",
       "      <td>39 days 18:00:00</td>\n",
       "      <td>330 days 18:00:00</td>\n",
       "      <td>84 days 18:00:00</td>\n",
       "    </tr>\n",
       "    <tr>\n",
       "      <th>749474</th>\n",
       "      <td>86</td>\n",
       "      <td>2015-07-19 19:00:00</td>\n",
       "      <td>0</td>\n",
       "      <td>0</td>\n",
       "      <td>0</td>\n",
       "      <td>0</td>\n",
       "      <td>198 days 16:00:00</td>\n",
       "      <td>177 days 13:00:00</td>\n",
       "      <td>199 days 13:00:00</td>\n",
       "      <td>199 days 13:00:00</td>\n",
       "    </tr>\n",
       "    <tr>\n",
       "      <th>722728</th>\n",
       "      <td>83</td>\n",
       "      <td>2015-06-30 12:00:00</td>\n",
       "      <td>0</td>\n",
       "      <td>0</td>\n",
       "      <td>0</td>\n",
       "      <td>0</td>\n",
       "      <td>180 days 06:00:00</td>\n",
       "      <td>30 days 06:00:00</td>\n",
       "      <td>180 days 06:00:00</td>\n",
       "      <td>45 days 06:00:00</td>\n",
       "    </tr>\n",
       "    <tr>\n",
       "      <th>434639</th>\n",
       "      <td>50</td>\n",
       "      <td>2015-08-12 04:00:00</td>\n",
       "      <td>0</td>\n",
       "      <td>0</td>\n",
       "      <td>0</td>\n",
       "      <td>0</td>\n",
       "      <td>193 days 22:00:00</td>\n",
       "      <td>103 days 22:00:00</td>\n",
       "      <td>222 days 22:00:00</td>\n",
       "      <td>222 days 22:00:00</td>\n",
       "    </tr>\n",
       "    <tr>\n",
       "      <th>50249</th>\n",
       "      <td>6</td>\n",
       "      <td>2015-09-26 18:00:00</td>\n",
       "      <td>0</td>\n",
       "      <td>0</td>\n",
       "      <td>0</td>\n",
       "      <td>0</td>\n",
       "      <td>268 days 12:00:00</td>\n",
       "      <td>268 days 12:00:00</td>\n",
       "      <td>268 days 12:00:00</td>\n",
       "      <td>268 days 12:00:00</td>\n",
       "    </tr>\n",
       "  </tbody>\n",
       "</table>\n",
       "</div>"
      ],
      "text/plain": [
       "        machineID            datetime  failure_comp1  failure_comp2  \\\n",
       "656252         75 2015-11-28 00:00:00              0              0   \n",
       "749474         86 2015-07-19 19:00:00              0              0   \n",
       "722728         83 2015-06-30 12:00:00              0              0   \n",
       "434639         50 2015-08-12 04:00:00              0              0   \n",
       "50249           6 2015-09-26 18:00:00              0              0   \n",
       "\n",
       "        failure_comp3  failure_comp4 time_since_failure_comp1  \\\n",
       "656252              0              0        234 days 18:00:00   \n",
       "749474              0              0        198 days 16:00:00   \n",
       "722728              0              0        180 days 06:00:00   \n",
       "434639              0              0        193 days 22:00:00   \n",
       "50249               0              0        268 days 12:00:00   \n",
       "\n",
       "       time_since_failure_comp2 time_since_failure_comp3  \\\n",
       "656252         39 days 18:00:00        330 days 18:00:00   \n",
       "749474        177 days 13:00:00        199 days 13:00:00   \n",
       "722728         30 days 06:00:00        180 days 06:00:00   \n",
       "434639        103 days 22:00:00        222 days 22:00:00   \n",
       "50249         268 days 12:00:00        268 days 12:00:00   \n",
       "\n",
       "       time_since_failure_comp4  \n",
       "656252         84 days 18:00:00  \n",
       "749474        199 days 13:00:00  \n",
       "722728         45 days 06:00:00  \n",
       "434639        222 days 22:00:00  \n",
       "50249         268 days 12:00:00  "
      ]
     },
     "execution_count": 21,
     "metadata": {},
     "output_type": "execute_result"
    }
   ],
   "source": [
    "failure_cols = [f'failure_comp{i}' for i in range(1, 5)]\n",
    "\n",
    "failures_preprocessed = (\n",
    "    failures\n",
    "    .pipe(unstack, col='failure', groupby_cols=[subject_id_col, time_col], prefix='failure')\n",
    "    .pipe(prepare_events_data, base_data=base_df, subject_id_col=subject_id_col, time_col=time_col)\n",
    ")\n",
    "feature_cols_failure = failures_preprocessed.columns[failures_preprocessed.columns.str.startswith('seconds_since')]\n",
    "failures_preprocessed.sample(5, random_state=RANDOM_STATE)"
   ]
  },
  {
   "cell_type": "markdown",
   "metadata": {
    "Collapsed": "false"
   },
   "source": [
    "### Maintenance Logs"
   ]
  },
  {
   "cell_type": "code",
   "execution_count": 22,
   "metadata": {
    "Collapsed": "false"
   },
   "outputs": [
    {
     "data": {
      "text/html": [
       "<div>\n",
       "<style scoped>\n",
       "    .dataframe tbody tr th:only-of-type {\n",
       "        vertical-align: middle;\n",
       "    }\n",
       "\n",
       "    .dataframe tbody tr th {\n",
       "        vertical-align: top;\n",
       "    }\n",
       "\n",
       "    .dataframe thead th {\n",
       "        text-align: right;\n",
       "    }\n",
       "</style>\n",
       "<table border=\"1\" class=\"dataframe\">\n",
       "  <thead>\n",
       "    <tr style=\"text-align: right;\">\n",
       "      <th></th>\n",
       "      <th>datetime</th>\n",
       "      <th>machineID</th>\n",
       "      <th>comp</th>\n",
       "    </tr>\n",
       "  </thead>\n",
       "  <tbody>\n",
       "    <tr>\n",
       "      <th>2502</th>\n",
       "      <td>2015-12-14 06:00:00</td>\n",
       "      <td>76</td>\n",
       "      <td>comp3</td>\n",
       "    </tr>\n",
       "    <tr>\n",
       "      <th>2661</th>\n",
       "      <td>2015-09-14 06:00:00</td>\n",
       "      <td>81</td>\n",
       "      <td>comp1</td>\n",
       "    </tr>\n",
       "    <tr>\n",
       "      <th>3218</th>\n",
       "      <td>2015-10-27 06:00:00</td>\n",
       "      <td>98</td>\n",
       "      <td>comp2</td>\n",
       "    </tr>\n",
       "    <tr>\n",
       "      <th>1297</th>\n",
       "      <td>2015-01-19 06:00:00</td>\n",
       "      <td>40</td>\n",
       "      <td>comp3</td>\n",
       "    </tr>\n",
       "    <tr>\n",
       "      <th>1157</th>\n",
       "      <td>2015-12-17 06:00:00</td>\n",
       "      <td>35</td>\n",
       "      <td>comp4</td>\n",
       "    </tr>\n",
       "  </tbody>\n",
       "</table>\n",
       "</div>"
      ],
      "text/plain": [
       "                datetime  machineID   comp\n",
       "2502 2015-12-14 06:00:00         76  comp3\n",
       "2661 2015-09-14 06:00:00         81  comp1\n",
       "3218 2015-10-27 06:00:00         98  comp2\n",
       "1297 2015-01-19 06:00:00         40  comp3\n",
       "1157 2015-12-17 06:00:00         35  comp4"
      ]
     },
     "execution_count": 22,
     "metadata": {},
     "output_type": "execute_result"
    }
   ],
   "source": [
    "maintenance.sample(5, random_state=RANDOM_STATE)"
   ]
  },
  {
   "cell_type": "code",
   "execution_count": 23,
   "metadata": {
    "Collapsed": "false"
   },
   "outputs": [
    {
     "data": {
      "text/html": [
       "<div>\n",
       "<style scoped>\n",
       "    .dataframe tbody tr th:only-of-type {\n",
       "        vertical-align: middle;\n",
       "    }\n",
       "\n",
       "    .dataframe tbody tr th {\n",
       "        vertical-align: top;\n",
       "    }\n",
       "\n",
       "    .dataframe thead th {\n",
       "        text-align: right;\n",
       "    }\n",
       "</style>\n",
       "<table border=\"1\" class=\"dataframe\">\n",
       "  <thead>\n",
       "    <tr style=\"text-align: right;\">\n",
       "      <th></th>\n",
       "      <th>machineID</th>\n",
       "      <th>datetime</th>\n",
       "      <th>maintenance_comp1</th>\n",
       "      <th>maintenance_comp2</th>\n",
       "      <th>maintenance_comp3</th>\n",
       "      <th>maintenance_comp4</th>\n",
       "      <th>time_since_maintenance_comp1</th>\n",
       "      <th>time_since_maintenance_comp2</th>\n",
       "      <th>time_since_maintenance_comp3</th>\n",
       "      <th>time_since_maintenance_comp4</th>\n",
       "    </tr>\n",
       "  </thead>\n",
       "  <tbody>\n",
       "    <tr>\n",
       "      <th>656252</th>\n",
       "      <td>75</td>\n",
       "      <td>2015-11-28 00:00:00</td>\n",
       "      <td>0</td>\n",
       "      <td>0</td>\n",
       "      <td>0</td>\n",
       "      <td>0</td>\n",
       "      <td>114 days 18:00:00</td>\n",
       "      <td>39 days 18:00:00</td>\n",
       "      <td>9 days 18:00:00</td>\n",
       "      <td>69 days 18:00:00</td>\n",
       "    </tr>\n",
       "    <tr>\n",
       "      <th>749474</th>\n",
       "      <td>86</td>\n",
       "      <td>2015-07-19 19:00:00</td>\n",
       "      <td>0</td>\n",
       "      <td>0</td>\n",
       "      <td>0</td>\n",
       "      <td>0</td>\n",
       "      <td>27 days 13:00:00</td>\n",
       "      <td>42 days 13:00:00</td>\n",
       "      <td>12 days 13:00:00</td>\n",
       "      <td>102 days 13:00:00</td>\n",
       "    </tr>\n",
       "    <tr>\n",
       "      <th>722728</th>\n",
       "      <td>83</td>\n",
       "      <td>2015-06-30 12:00:00</td>\n",
       "      <td>0</td>\n",
       "      <td>0</td>\n",
       "      <td>0</td>\n",
       "      <td>0</td>\n",
       "      <td>45 days 06:00:00</td>\n",
       "      <td>0 days 06:00:00</td>\n",
       "      <td>0 days 06:00:00</td>\n",
       "      <td>45 days 06:00:00</td>\n",
       "    </tr>\n",
       "    <tr>\n",
       "      <th>434639</th>\n",
       "      <td>50</td>\n",
       "      <td>2015-08-12 04:00:00</td>\n",
       "      <td>0</td>\n",
       "      <td>0</td>\n",
       "      <td>0</td>\n",
       "      <td>0</td>\n",
       "      <td>148 days 22:00:00</td>\n",
       "      <td>58 days 22:00:00</td>\n",
       "      <td>13 days 22:00:00</td>\n",
       "      <td>43 days 22:00:00</td>\n",
       "    </tr>\n",
       "    <tr>\n",
       "      <th>50249</th>\n",
       "      <td>6</td>\n",
       "      <td>2015-09-26 18:00:00</td>\n",
       "      <td>0</td>\n",
       "      <td>0</td>\n",
       "      <td>0</td>\n",
       "      <td>0</td>\n",
       "      <td>37 days 12:00:00</td>\n",
       "      <td>67 days 12:00:00</td>\n",
       "      <td>7 days 12:00:00</td>\n",
       "      <td>52 days 12:00:00</td>\n",
       "    </tr>\n",
       "  </tbody>\n",
       "</table>\n",
       "</div>"
      ],
      "text/plain": [
       "        machineID            datetime  maintenance_comp1  maintenance_comp2  \\\n",
       "656252         75 2015-11-28 00:00:00                  0                  0   \n",
       "749474         86 2015-07-19 19:00:00                  0                  0   \n",
       "722728         83 2015-06-30 12:00:00                  0                  0   \n",
       "434639         50 2015-08-12 04:00:00                  0                  0   \n",
       "50249           6 2015-09-26 18:00:00                  0                  0   \n",
       "\n",
       "        maintenance_comp3  maintenance_comp4 time_since_maintenance_comp1  \\\n",
       "656252                  0                  0            114 days 18:00:00   \n",
       "749474                  0                  0             27 days 13:00:00   \n",
       "722728                  0                  0             45 days 06:00:00   \n",
       "434639                  0                  0            148 days 22:00:00   \n",
       "50249                   0                  0             37 days 12:00:00   \n",
       "\n",
       "       time_since_maintenance_comp2 time_since_maintenance_comp3  \\\n",
       "656252             39 days 18:00:00              9 days 18:00:00   \n",
       "749474             42 days 13:00:00             12 days 13:00:00   \n",
       "722728              0 days 06:00:00              0 days 06:00:00   \n",
       "434639             58 days 22:00:00             13 days 22:00:00   \n",
       "50249              67 days 12:00:00              7 days 12:00:00   \n",
       "\n",
       "       time_since_maintenance_comp4  \n",
       "656252             69 days 18:00:00  \n",
       "749474            102 days 13:00:00  \n",
       "722728             45 days 06:00:00  \n",
       "434639             43 days 22:00:00  \n",
       "50249              52 days 12:00:00  "
      ]
     },
     "execution_count": 23,
     "metadata": {},
     "output_type": "execute_result"
    }
   ],
   "source": [
    "maintenance_cols = [f'maintenance_comp{i}' for i in range(1, 5)]\n",
    "\n",
    "maintenance_preprocessed = (\n",
    "    maintenance\n",
    "    .sort_values([subject_id_col, time_col])\n",
    "    .pipe(unstack, col='comp', groupby_cols=[subject_id_col, time_col], prefix='maintenance')\n",
    "    .pipe(prepare_events_data, base_data=base_df, subject_id_col=subject_id_col, time_col=time_col)\n",
    ")\n",
    "feature_cols_maintenance = maintenance_preprocessed.columns[maintenance_preprocessed.columns.str.startswith('seconds_since')]\n",
    "maintenance_preprocessed.sample(5, random_state=RANDOM_STATE)"
   ]
  },
  {
   "cell_type": "markdown",
   "metadata": {
    "Collapsed": "false"
   },
   "source": [
    "### Merge Data"
   ]
  },
  {
   "cell_type": "code",
   "execution_count": 35,
   "metadata": {
    "Collapsed": "false"
   },
   "outputs": [
    {
     "data": {
      "text/html": [
       "<div>\n",
       "<style scoped>\n",
       "    .dataframe tbody tr th:only-of-type {\n",
       "        vertical-align: middle;\n",
       "    }\n",
       "\n",
       "    .dataframe tbody tr th {\n",
       "        vertical-align: top;\n",
       "    }\n",
       "\n",
       "    .dataframe thead th {\n",
       "        text-align: right;\n",
       "    }\n",
       "</style>\n",
       "<table border=\"1\" class=\"dataframe\">\n",
       "  <thead>\n",
       "    <tr style=\"text-align: right;\">\n",
       "      <th></th>\n",
       "      <th>machineID</th>\n",
       "      <th>datetime</th>\n",
       "      <th>telemetry_raw_volt</th>\n",
       "      <th>telemetry_raw_rotate</th>\n",
       "      <th>telemetry_raw_pressure</th>\n",
       "      <th>telemetry_raw_vibration</th>\n",
       "      <th>failure_comp1</th>\n",
       "      <th>failure_comp2</th>\n",
       "      <th>failure_comp3</th>\n",
       "      <th>failure_comp4</th>\n",
       "      <th>...</th>\n",
       "      <th>error1</th>\n",
       "      <th>error2</th>\n",
       "      <th>error3</th>\n",
       "      <th>error4</th>\n",
       "      <th>error5</th>\n",
       "      <th>time_since_error1</th>\n",
       "      <th>time_since_error2</th>\n",
       "      <th>time_since_error3</th>\n",
       "      <th>time_since_error4</th>\n",
       "      <th>time_since_error5</th>\n",
       "    </tr>\n",
       "  </thead>\n",
       "  <tbody>\n",
       "    <tr>\n",
       "      <th>656252</th>\n",
       "      <td>75</td>\n",
       "      <td>2015-11-28 00:00:00</td>\n",
       "      <td>157.064044</td>\n",
       "      <td>557.867013</td>\n",
       "      <td>133.646277</td>\n",
       "      <td>34.685225</td>\n",
       "      <td>0</td>\n",
       "      <td>0</td>\n",
       "      <td>0</td>\n",
       "      <td>0</td>\n",
       "      <td>...</td>\n",
       "      <td>0</td>\n",
       "      <td>0</td>\n",
       "      <td>0</td>\n",
       "      <td>0</td>\n",
       "      <td>0</td>\n",
       "      <td>76 days 10:00:00</td>\n",
       "      <td>13 days 03:00:00</td>\n",
       "      <td>2 days 00:00:00</td>\n",
       "      <td>198 days 14:00:00</td>\n",
       "      <td>85 days 18:00:00</td>\n",
       "    </tr>\n",
       "    <tr>\n",
       "      <th>749474</th>\n",
       "      <td>86</td>\n",
       "      <td>2015-07-19 19:00:00</td>\n",
       "      <td>195.584326</td>\n",
       "      <td>371.460881</td>\n",
       "      <td>80.444692</td>\n",
       "      <td>34.404339</td>\n",
       "      <td>0</td>\n",
       "      <td>0</td>\n",
       "      <td>0</td>\n",
       "      <td>0</td>\n",
       "      <td>...</td>\n",
       "      <td>0</td>\n",
       "      <td>0</td>\n",
       "      <td>0</td>\n",
       "      <td>0</td>\n",
       "      <td>0</td>\n",
       "      <td>50 days 12:00:00</td>\n",
       "      <td>178 days 13:00:00</td>\n",
       "      <td>3 days 21:00:00</td>\n",
       "      <td>23 days 07:00:00</td>\n",
       "      <td>5 days 13:00:00</td>\n",
       "    </tr>\n",
       "    <tr>\n",
       "      <th>722728</th>\n",
       "      <td>83</td>\n",
       "      <td>2015-06-30 12:00:00</td>\n",
       "      <td>160.121638</td>\n",
       "      <td>430.622848</td>\n",
       "      <td>96.155779</td>\n",
       "      <td>44.000960</td>\n",
       "      <td>0</td>\n",
       "      <td>0</td>\n",
       "      <td>0</td>\n",
       "      <td>0</td>\n",
       "      <td>...</td>\n",
       "      <td>0</td>\n",
       "      <td>0</td>\n",
       "      <td>0</td>\n",
       "      <td>0</td>\n",
       "      <td>0</td>\n",
       "      <td>82 days 06:00:00</td>\n",
       "      <td>31 days 06:00:00</td>\n",
       "      <td>31 days 06:00:00</td>\n",
       "      <td>2 days 00:00:00</td>\n",
       "      <td>29 days 14:00:00</td>\n",
       "    </tr>\n",
       "    <tr>\n",
       "      <th>434639</th>\n",
       "      <td>50</td>\n",
       "      <td>2015-08-12 04:00:00</td>\n",
       "      <td>139.454686</td>\n",
       "      <td>464.589055</td>\n",
       "      <td>89.285505</td>\n",
       "      <td>40.889875</td>\n",
       "      <td>0</td>\n",
       "      <td>0</td>\n",
       "      <td>0</td>\n",
       "      <td>0</td>\n",
       "      <td>...</td>\n",
       "      <td>0</td>\n",
       "      <td>0</td>\n",
       "      <td>0</td>\n",
       "      <td>0</td>\n",
       "      <td>0</td>\n",
       "      <td>5 days 19:00:00</td>\n",
       "      <td>38 days 13:00:00</td>\n",
       "      <td>17 days 15:00:00</td>\n",
       "      <td>110 days 02:00:00</td>\n",
       "      <td>106 days 09:00:00</td>\n",
       "    </tr>\n",
       "    <tr>\n",
       "      <th>50249</th>\n",
       "      <td>6</td>\n",
       "      <td>2015-09-26 18:00:00</td>\n",
       "      <td>179.835139</td>\n",
       "      <td>433.961370</td>\n",
       "      <td>101.390487</td>\n",
       "      <td>35.126154</td>\n",
       "      <td>0</td>\n",
       "      <td>0</td>\n",
       "      <td>0</td>\n",
       "      <td>0</td>\n",
       "      <td>...</td>\n",
       "      <td>0</td>\n",
       "      <td>0</td>\n",
       "      <td>0</td>\n",
       "      <td>0</td>\n",
       "      <td>0</td>\n",
       "      <td>7 days 22:00:00</td>\n",
       "      <td>0 days 10:00:00</td>\n",
       "      <td>156 days 02:00:00</td>\n",
       "      <td>37 days 12:00:00</td>\n",
       "      <td>125 days 10:00:00</td>\n",
       "    </tr>\n",
       "  </tbody>\n",
       "</table>\n",
       "<p>5 rows × 32 columns</p>\n",
       "</div>"
      ],
      "text/plain": [
       "        machineID            datetime  telemetry_raw_volt  \\\n",
       "656252         75 2015-11-28 00:00:00          157.064044   \n",
       "749474         86 2015-07-19 19:00:00          195.584326   \n",
       "722728         83 2015-06-30 12:00:00          160.121638   \n",
       "434639         50 2015-08-12 04:00:00          139.454686   \n",
       "50249           6 2015-09-26 18:00:00          179.835139   \n",
       "\n",
       "        telemetry_raw_rotate  telemetry_raw_pressure  telemetry_raw_vibration  \\\n",
       "656252            557.867013              133.646277                34.685225   \n",
       "749474            371.460881               80.444692                34.404339   \n",
       "722728            430.622848               96.155779                44.000960   \n",
       "434639            464.589055               89.285505                40.889875   \n",
       "50249             433.961370              101.390487                35.126154   \n",
       "\n",
       "        failure_comp1  failure_comp2  failure_comp3  failure_comp4  ...  \\\n",
       "656252              0              0              0              0  ...   \n",
       "749474              0              0              0              0  ...   \n",
       "722728              0              0              0              0  ...   \n",
       "434639              0              0              0              0  ...   \n",
       "50249               0              0              0              0  ...   \n",
       "\n",
       "       error1 error2 error3 error4  error5  time_since_error1  \\\n",
       "656252      0      0      0      0       0   76 days 10:00:00   \n",
       "749474      0      0      0      0       0   50 days 12:00:00   \n",
       "722728      0      0      0      0       0   82 days 06:00:00   \n",
       "434639      0      0      0      0       0    5 days 19:00:00   \n",
       "50249       0      0      0      0       0    7 days 22:00:00   \n",
       "\n",
       "        time_since_error2  time_since_error3 time_since_error4  \\\n",
       "656252   13 days 03:00:00    2 days 00:00:00 198 days 14:00:00   \n",
       "749474  178 days 13:00:00    3 days 21:00:00  23 days 07:00:00   \n",
       "722728   31 days 06:00:00   31 days 06:00:00   2 days 00:00:00   \n",
       "434639   38 days 13:00:00   17 days 15:00:00 110 days 02:00:00   \n",
       "50249     0 days 10:00:00  156 days 02:00:00  37 days 12:00:00   \n",
       "\n",
       "       time_since_error5  \n",
       "656252  85 days 18:00:00  \n",
       "749474   5 days 13:00:00  \n",
       "722728  29 days 14:00:00  \n",
       "434639 106 days 09:00:00  \n",
       "50249  125 days 10:00:00  \n",
       "\n",
       "[5 rows x 32 columns]"
      ]
     },
     "execution_count": 35,
     "metadata": {},
     "output_type": "execute_result"
    }
   ],
   "source": [
    "merge_props = {\n",
    "    'on': [subject_id_col, time_col],\n",
    "    'how': 'left',\n",
    "}\n",
    "\n",
    "data = telemetry_preprocessed\n",
    "for data_to_merge in [\n",
    "    failures_preprocessed,\n",
    "    maintenance_preprocessed,\n",
    "    errors_preprocessed,\n",
    "]:\n",
    "    data = data.merge(data_to_merge)\n",
    "data.sample(5, random_state=RANDOM_STATE)"
   ]
  },
  {
   "cell_type": "code",
   "execution_count": 36,
   "metadata": {
    "Collapsed": "false"
   },
   "outputs": [],
   "source": [
    "subject_id_col = 'machineID'\n",
    "time_col = 'datetime'\n",
    "failure_cols = data.columns[data.columns.str.startswith('failure_')]\n",
    "maintenance_cols = data.columns[data.columns.str.startswith('maintenance_')]\n",
    "error_cols = data.columns[data.columns.str.startswith('error_')]\n",
    "time_since_cols = data.columns[data.columns.str.startswith('time_since_')]\n",
    "telemetry_cols = data.columns[data.columns.str.startswith('telemetry_raw_')]\n",
    "\n",
    "data[time_since_cols] = data[time_since_cols].apply(lambda x: x.dt.total_seconds())"
   ]
  },
  {
   "cell_type": "markdown",
   "metadata": {
    "Collapsed": "false"
   },
   "source": [
    "### Add Event Column, Filter Short Series and Add Series Id"
   ]
  },
  {
   "cell_type": "code",
   "execution_count": 38,
   "metadata": {
    "Collapsed": "false"
   },
   "outputs": [],
   "source": [
    "df = data.copy()\n",
    "\n",
    "df['Event'] = df[failure_cols].max(axis=1).eq(1).astype(int)\n",
    "df['SeriesId'] = create_series_id(\n",
    "    df, event_col='Event', subject_id_col=subject_id_col, time_order_col=time_col)\n",
    "for i in np.arange(1, 5):\n",
    "    df[f'Event_comp{i}'] = df[[f'failure_comp{i}']].max(axis=1).eq(1).astype(int)\n",
    "    df[f'SeriesId_comp{i}'] = create_series_id(\n",
    "        df, event_col=f'Event_comp{i}', subject_id_col=subject_id_col, time_order_col=time_col)\n",
    "df = filter_short_series(df, min_series_len=60)\n",
    "\n",
    "data_with_event = df"
   ]
  },
  {
   "cell_type": "markdown",
   "metadata": {
    "Collapsed": "false"
   },
   "source": [
    "## Extract Features"
   ]
  },
  {
   "cell_type": "markdown",
   "metadata": {
    "Collapsed": "false"
   },
   "source": [
    "### Rolling Features of Telemetry Data"
   ]
  },
  {
   "cell_type": "code",
   "execution_count": 39,
   "metadata": {
    "Collapsed": "false"
   },
   "outputs": [],
   "source": [
    "class FeatureExtractor:\n",
    "    def __init__(self, column_name, agg_func, agg_name):\n",
    "        self.column_name = column_name\n",
    "        self.agg_func = agg_func\n",
    "        self.agg_name = agg_name\n",
    "        \n",
    "\n",
    "agg_mapping = [\n",
    "    FeatureExtractor(col, func, agg_name)    \n",
    "    for col in telemetry_cols\n",
    "    for func, agg_name in [\n",
    "        (np.mean, f'{col}_mean'),\n",
    "        (np.sum, f'{col}_sum'),\n",
    "        (np.var, f'{col}_var'),\n",
    "    ]    \n",
    "]"
   ]
  },
  {
   "cell_type": "code",
   "execution_count": 40,
   "metadata": {
    "Collapsed": "false"
   },
   "outputs": [],
   "source": [
    "feature_cols = [\n",
    "    *telemetry_cols,\n",
    "    *time_since_cols,\n",
    "]"
   ]
  },
  {
   "cell_type": "code",
   "execution_count": 41,
   "metadata": {
    "Collapsed": "false"
   },
   "outputs": [],
   "source": [
    "def extract_telemetry_features(df):\n",
    "    df = df[1]\n",
    "    for agg_mapper in agg_mapping:\n",
    "        df[agg_mapper.agg_name] = (\n",
    "            df\n",
    "            [agg_mapper.column_name]\n",
    "            .rolling(24*7, min_periods=1)\n",
    "            .apply(agg_mapper.agg_func, raw=True)\n",
    "        )\n",
    "    return df"
   ]
  },
  {
   "cell_type": "code",
   "execution_count": 42,
   "metadata": {
    "Collapsed": "false"
   },
   "outputs": [],
   "source": [
    "feature_cols_telemetry = [x.agg_name for x in agg_mapping]"
   ]
  },
  {
   "cell_type": "code",
   "execution_count": 43,
   "metadata": {
    "Collapsed": "false"
   },
   "outputs": [
    {
     "name": "stdout",
     "output_type": "stream",
     "text": [
      "CPU times: user 10.8 s, sys: 6.11 s, total: 16.9 s\n",
      "Wall time: 23.9 s\n"
     ]
    }
   ],
   "source": [
    "%%time\n",
    "\n",
    "pool = multiprocessing.Pool(N_JOBS)\n",
    "\n",
    "dfs = pool.map(extract_telemetry_features, list(data_with_event.groupby('SeriesId')))\n",
    "pool.close()\n",
    "data_feature_extracted = pd.concat(dfs)"
   ]
  },
  {
   "cell_type": "code",
   "execution_count": 44,
   "metadata": {
    "Collapsed": "false"
   },
   "outputs": [
    {
     "data": {
      "text/plain": [
       "['telemetry_raw_pressure',\n",
       " 'telemetry_raw_pressure_mean',\n",
       " 'telemetry_raw_pressure_sum',\n",
       " 'telemetry_raw_pressure_var',\n",
       " 'telemetry_raw_rotate',\n",
       " 'telemetry_raw_rotate_mean',\n",
       " 'telemetry_raw_rotate_sum',\n",
       " 'telemetry_raw_rotate_var',\n",
       " 'telemetry_raw_vibration',\n",
       " 'telemetry_raw_vibration_mean',\n",
       " 'telemetry_raw_vibration_sum',\n",
       " 'telemetry_raw_vibration_var',\n",
       " 'telemetry_raw_volt',\n",
       " 'telemetry_raw_volt_mean',\n",
       " 'telemetry_raw_volt_sum',\n",
       " 'telemetry_raw_volt_var',\n",
       " 'time_since_error1',\n",
       " 'time_since_error2',\n",
       " 'time_since_error3',\n",
       " 'time_since_error4',\n",
       " 'time_since_error5',\n",
       " 'time_since_failure_comp1',\n",
       " 'time_since_failure_comp2',\n",
       " 'time_since_failure_comp3',\n",
       " 'time_since_failure_comp4',\n",
       " 'time_since_maintenance_comp1',\n",
       " 'time_since_maintenance_comp2',\n",
       " 'time_since_maintenance_comp3',\n",
       " 'time_since_maintenance_comp4']"
      ]
     },
     "execution_count": 44,
     "metadata": {},
     "output_type": "execute_result"
    }
   ],
   "source": [
    "feature_cols = set(feature_cols)\n",
    "feature_cols.update(set(feature_cols_telemetry))\n",
    "feature_cols = list(feature_cols)\n",
    "sorted(feature_cols)"
   ]
  },
  {
   "cell_type": "code",
   "execution_count": 45,
   "metadata": {
    "Collapsed": "false"
   },
   "outputs": [
    {
     "data": {
      "text/html": [
       "<div>\n",
       "<style scoped>\n",
       "    .dataframe tbody tr th:only-of-type {\n",
       "        vertical-align: middle;\n",
       "    }\n",
       "\n",
       "    .dataframe tbody tr th {\n",
       "        vertical-align: top;\n",
       "    }\n",
       "\n",
       "    .dataframe thead th {\n",
       "        text-align: right;\n",
       "    }\n",
       "</style>\n",
       "<table border=\"1\" class=\"dataframe\">\n",
       "  <thead>\n",
       "    <tr style=\"text-align: right;\">\n",
       "      <th></th>\n",
       "      <th>machineID</th>\n",
       "      <th>datetime</th>\n",
       "      <th>telemetry_raw_volt</th>\n",
       "      <th>telemetry_raw_rotate</th>\n",
       "      <th>telemetry_raw_pressure</th>\n",
       "      <th>telemetry_raw_vibration</th>\n",
       "      <th>failure_comp1</th>\n",
       "      <th>failure_comp2</th>\n",
       "      <th>failure_comp3</th>\n",
       "      <th>failure_comp4</th>\n",
       "      <th>...</th>\n",
       "      <th>telemetry_raw_volt_var</th>\n",
       "      <th>telemetry_raw_rotate_mean</th>\n",
       "      <th>telemetry_raw_rotate_sum</th>\n",
       "      <th>telemetry_raw_rotate_var</th>\n",
       "      <th>telemetry_raw_pressure_mean</th>\n",
       "      <th>telemetry_raw_pressure_sum</th>\n",
       "      <th>telemetry_raw_pressure_var</th>\n",
       "      <th>telemetry_raw_vibration_mean</th>\n",
       "      <th>telemetry_raw_vibration_sum</th>\n",
       "      <th>telemetry_raw_vibration_var</th>\n",
       "    </tr>\n",
       "  </thead>\n",
       "  <tbody>\n",
       "    <tr>\n",
       "      <th>54759</th>\n",
       "      <td>7</td>\n",
       "      <td>2015-04-02 15:00:00</td>\n",
       "      <td>158.901119</td>\n",
       "      <td>487.149513</td>\n",
       "      <td>105.577385</td>\n",
       "      <td>33.641067</td>\n",
       "      <td>0</td>\n",
       "      <td>0</td>\n",
       "      <td>0</td>\n",
       "      <td>0</td>\n",
       "      <td>...</td>\n",
       "      <td>217.396059</td>\n",
       "      <td>452.569901</td>\n",
       "      <td>76031.743306</td>\n",
       "      <td>2508.438475</td>\n",
       "      <td>98.999460</td>\n",
       "      <td>16631.909362</td>\n",
       "      <td>111.217825</td>\n",
       "      <td>40.312422</td>\n",
       "      <td>6772.486814</td>\n",
       "      <td>20.932339</td>\n",
       "    </tr>\n",
       "    <tr>\n",
       "      <th>754281</th>\n",
       "      <td>87</td>\n",
       "      <td>2015-02-05 01:00:00</td>\n",
       "      <td>195.682332</td>\n",
       "      <td>447.224870</td>\n",
       "      <td>100.134474</td>\n",
       "      <td>35.053151</td>\n",
       "      <td>0</td>\n",
       "      <td>0</td>\n",
       "      <td>0</td>\n",
       "      <td>0</td>\n",
       "      <td>...</td>\n",
       "      <td>268.195564</td>\n",
       "      <td>452.525527</td>\n",
       "      <td>76024.288591</td>\n",
       "      <td>2341.593357</td>\n",
       "      <td>100.592681</td>\n",
       "      <td>16899.570482</td>\n",
       "      <td>77.241209</td>\n",
       "      <td>40.139302</td>\n",
       "      <td>6743.402662</td>\n",
       "      <td>25.176445</td>\n",
       "    </tr>\n",
       "    <tr>\n",
       "      <th>811454</th>\n",
       "      <td>93</td>\n",
       "      <td>2015-08-16 00:00:00</td>\n",
       "      <td>143.315088</td>\n",
       "      <td>389.364157</td>\n",
       "      <td>93.704669</td>\n",
       "      <td>39.779341</td>\n",
       "      <td>0</td>\n",
       "      <td>0</td>\n",
       "      <td>0</td>\n",
       "      <td>0</td>\n",
       "      <td>...</td>\n",
       "      <td>268.695343</td>\n",
       "      <td>452.322311</td>\n",
       "      <td>75990.148255</td>\n",
       "      <td>2401.943873</td>\n",
       "      <td>100.975030</td>\n",
       "      <td>16963.805008</td>\n",
       "      <td>113.579147</td>\n",
       "      <td>40.047610</td>\n",
       "      <td>6727.998552</td>\n",
       "      <td>25.512615</td>\n",
       "    </tr>\n",
       "    <tr>\n",
       "      <th>659495</th>\n",
       "      <td>76</td>\n",
       "      <td>2015-04-12 02:00:00</td>\n",
       "      <td>175.625266</td>\n",
       "      <td>457.222318</td>\n",
       "      <td>69.996709</td>\n",
       "      <td>38.872301</td>\n",
       "      <td>0</td>\n",
       "      <td>0</td>\n",
       "      <td>0</td>\n",
       "      <td>0</td>\n",
       "      <td>...</td>\n",
       "      <td>238.945907</td>\n",
       "      <td>446.427584</td>\n",
       "      <td>74999.834100</td>\n",
       "      <td>2485.138326</td>\n",
       "      <td>99.811907</td>\n",
       "      <td>16768.400383</td>\n",
       "      <td>110.165327</td>\n",
       "      <td>39.014932</td>\n",
       "      <td>6554.508624</td>\n",
       "      <td>22.628729</td>\n",
       "    </tr>\n",
       "    <tr>\n",
       "      <th>191593</th>\n",
       "      <td>22</td>\n",
       "      <td>2015-11-14 10:00:00</td>\n",
       "      <td>145.814913</td>\n",
       "      <td>464.441445</td>\n",
       "      <td>84.427990</td>\n",
       "      <td>39.028738</td>\n",
       "      <td>0</td>\n",
       "      <td>0</td>\n",
       "      <td>0</td>\n",
       "      <td>0</td>\n",
       "      <td>...</td>\n",
       "      <td>219.754474</td>\n",
       "      <td>450.351965</td>\n",
       "      <td>75659.130197</td>\n",
       "      <td>2787.172764</td>\n",
       "      <td>100.116396</td>\n",
       "      <td>16819.554610</td>\n",
       "      <td>108.324558</td>\n",
       "      <td>39.360616</td>\n",
       "      <td>6612.583549</td>\n",
       "      <td>27.002238</td>\n",
       "    </tr>\n",
       "  </tbody>\n",
       "</table>\n",
       "<p>5 rows × 54 columns</p>\n",
       "</div>"
      ],
      "text/plain": [
       "        machineID            datetime  telemetry_raw_volt  \\\n",
       "54759           7 2015-04-02 15:00:00          158.901119   \n",
       "754281         87 2015-02-05 01:00:00          195.682332   \n",
       "811454         93 2015-08-16 00:00:00          143.315088   \n",
       "659495         76 2015-04-12 02:00:00          175.625266   \n",
       "191593         22 2015-11-14 10:00:00          145.814913   \n",
       "\n",
       "        telemetry_raw_rotate  telemetry_raw_pressure  telemetry_raw_vibration  \\\n",
       "54759             487.149513              105.577385                33.641067   \n",
       "754281            447.224870              100.134474                35.053151   \n",
       "811454            389.364157               93.704669                39.779341   \n",
       "659495            457.222318               69.996709                38.872301   \n",
       "191593            464.441445               84.427990                39.028738   \n",
       "\n",
       "        failure_comp1  failure_comp2  failure_comp3  failure_comp4  ...  \\\n",
       "54759               0              0              0              0  ...   \n",
       "754281              0              0              0              0  ...   \n",
       "811454              0              0              0              0  ...   \n",
       "659495              0              0              0              0  ...   \n",
       "191593              0              0              0              0  ...   \n",
       "\n",
       "        telemetry_raw_volt_var  telemetry_raw_rotate_mean  \\\n",
       "54759               217.396059                 452.569901   \n",
       "754281              268.195564                 452.525527   \n",
       "811454              268.695343                 452.322311   \n",
       "659495              238.945907                 446.427584   \n",
       "191593              219.754474                 450.351965   \n",
       "\n",
       "        telemetry_raw_rotate_sum  telemetry_raw_rotate_var  \\\n",
       "54759               76031.743306               2508.438475   \n",
       "754281              76024.288591               2341.593357   \n",
       "811454              75990.148255               2401.943873   \n",
       "659495              74999.834100               2485.138326   \n",
       "191593              75659.130197               2787.172764   \n",
       "\n",
       "        telemetry_raw_pressure_mean  telemetry_raw_pressure_sum  \\\n",
       "54759                     98.999460                16631.909362   \n",
       "754281                   100.592681                16899.570482   \n",
       "811454                   100.975030                16963.805008   \n",
       "659495                    99.811907                16768.400383   \n",
       "191593                   100.116396                16819.554610   \n",
       "\n",
       "        telemetry_raw_pressure_var  telemetry_raw_vibration_mean  \\\n",
       "54759                   111.217825                     40.312422   \n",
       "754281                   77.241209                     40.139302   \n",
       "811454                  113.579147                     40.047610   \n",
       "659495                  110.165327                     39.014932   \n",
       "191593                  108.324558                     39.360616   \n",
       "\n",
       "        telemetry_raw_vibration_sum  telemetry_raw_vibration_var  \n",
       "54759                   6772.486814                    20.932339  \n",
       "754281                  6743.402662                    25.176445  \n",
       "811454                  6727.998552                    25.512615  \n",
       "659495                  6554.508624                    22.628729  \n",
       "191593                  6612.583549                    27.002238  \n",
       "\n",
       "[5 rows x 54 columns]"
      ]
     },
     "execution_count": 45,
     "metadata": {},
     "output_type": "execute_result"
    }
   ],
   "source": [
    "data_feature_extracted.sample(5, random_state=RANDOM_STATE)"
   ]
  },
  {
   "cell_type": "markdown",
   "metadata": {
    "Collapsed": "false"
   },
   "source": [
    "## Data Splitting"
   ]
  },
  {
   "cell_type": "code",
   "execution_count": 46,
   "metadata": {
    "Collapsed": "false"
   },
   "outputs": [],
   "source": [
    "subjects_train, subjects_test = train_test_split(data[subject_id_col].unique(), shuffle=True, test_size=0.2, random_state=RANDOM_STATE)"
   ]
  },
  {
   "cell_type": "code",
   "execution_count": 47,
   "metadata": {
    "Collapsed": "false"
   },
   "outputs": [],
   "source": [
    "EVENT_SUFFIX = ''\n",
    "\n",
    "def split(df):\n",
    "    X, y, groups = split_data(\n",
    "        df=df,\n",
    "        feature_cols=feature_cols,\n",
    "        target_col=f'Event{EVENT_SUFFIX}',\n",
    "        subject_id_col=subject_id_col,\n",
    "        series_id_col=f'SeriesId{EVENT_SUFFIX}',\n",
    "    )\n",
    "    return X, y, groups"
   ]
  },
  {
   "cell_type": "code",
   "execution_count": 48,
   "metadata": {
    "Collapsed": "false"
   },
   "outputs": [],
   "source": [
    "df = data_feature_extracted.copy()\n",
    "\n",
    "data_train = df[df[subject_id_col].isin(subjects_train)]\n",
    "data_test = df[df[subject_id_col].isin(subjects_test)]\n",
    "\n",
    "X_train, y_train, groups_train = split(data_train)\n",
    "X_test, y_test, groups_test = split(data_test)"
   ]
  },
  {
   "cell_type": "code",
   "execution_count": 49,
   "metadata": {
    "Collapsed": "false"
   },
   "outputs": [
    {
     "name": "stdout",
     "output_type": "stream",
     "text": [
      "Training set:\n",
      "\t# of subjects: 80\n",
      "\t# of series: 638\n",
      "\t# of samples: 700301\n",
      "Testing set:\n",
      "\t# of subjects: 20\n",
      "\t# of series: 154\n",
      "\t# of samples: 175132\n"
     ]
    }
   ],
   "source": [
    "from pmlib.utils import print_data_info\n",
    "\n",
    "print(f'Training set:')\n",
    "print_data_info(X_train, y_train, groups_train)\n",
    "print(f'Testing set:')\n",
    "print_data_info(X_test, y_test, groups_test)"
   ]
  },
  {
   "cell_type": "markdown",
   "metadata": {
    "Collapsed": "false"
   },
   "source": [
    "## Candidate Models Selection"
   ]
  },
  {
   "cell_type": "code",
   "execution_count": 50,
   "metadata": {
    "Collapsed": "false"
   },
   "outputs": [],
   "source": [
    "monitoring_time = 24\n",
    "warning_time = 8"
   ]
  },
  {
   "cell_type": "markdown",
   "metadata": {
    "Collapsed": "false"
   },
   "source": [
    "### Define Tested Models and Hyperparameters"
   ]
  },
  {
   "cell_type": "code",
   "execution_count": 51,
   "metadata": {
    "Collapsed": "false"
   },
   "outputs": [],
   "source": [
    "est = XGBClassifier(n_jobs=1, random_state=42)\n",
    "\n",
    "param_distributions = {\n",
    "    'smoothing_window': [1, 3, 5, 7],\n",
    "    'estimator__max_depth': [3, 4, 5, 6, 7],\n",
    "    'estimator__n_estimators': [32, 64, 128, 256],\n",
    "    'estimator__learning_rate': [0.05, 0.1, 0.15, 0.2],\n",
    "    'estimator__booster': ['gbtree', 'dart'],\n",
    "    'estimator__min_child_weight': [1,  4, 16, 64],\n",
    "    'estimator__subsample': [0.6, 0.7, 0.8, 0.9, 1],\n",
    "    'estimator__colsample_bytree': [0.6, 0.7, 0.8, 0.9, 1]\n",
    "}"
   ]
  },
  {
   "cell_type": "markdown",
   "metadata": {
    "Collapsed": "false"
   },
   "source": [
    "### Define Evaluation Metrics"
   ]
  },
  {
   "cell_type": "code",
   "execution_count": 54,
   "metadata": {
    "Collapsed": "false"
   },
   "outputs": [],
   "source": [
    "scorers = {\n",
    "     \"AUPRG\": make_scorer(\n",
    "        score_func=series_scorer(\n",
    "            score_func=auprg_score,\n",
    "            artificial_window=monitoring_time,\n",
    "            warning_time=warning_time\n",
    "        ),\n",
    "        needs_proba=True\n",
    "    ),\n",
    "    \"classical F1\": make_scorer(\n",
    "        score_func=series_scorer(\n",
    "            score_func=f1_score,\n",
    "            artificial_window=monitoring_time,\n",
    "            warning_time=warning_time\n",
    "        )\n",
    "    ),\n",
    "    'event-based F1': make_scorer(\n",
    "        score_func=f1_reduced_score,\n",
    "        monitoring_time=monitoring_time,\n",
    "        warning_time=warning_time,\n",
    "        alpha=0.8,\n",
    "    ),\n",
    "}"
   ]
  },
  {
   "cell_type": "markdown",
   "metadata": {
    "Collapsed": "false"
   },
   "source": [
    "### CV Search"
   ]
  },
  {
   "cell_type": "code",
   "execution_count": 55,
   "metadata": {
    "Collapsed": "false"
   },
   "outputs": [
    {
     "name": "stdout",
     "output_type": "stream",
     "text": [
      "Fitting 3 folds for each of 64 candidates, totalling 192 fits\n"
     ]
    },
    {
     "name": "stderr",
     "output_type": "stream",
     "text": [
      "[Parallel(n_jobs=32)]: Using backend LokyBackend with 32 concurrent workers.\n",
      "[Parallel(n_jobs=32)]: Done   8 tasks      | elapsed:  2.1min\n",
      "[Parallel(n_jobs=32)]: Done  21 tasks      | elapsed:  2.9min\n",
      "[Parallel(n_jobs=32)]: Done  34 tasks      | elapsed: 10.4min\n",
      "[Parallel(n_jobs=32)]: Done  49 tasks      | elapsed: 16.2min\n",
      "[Parallel(n_jobs=32)]: Done  64 tasks      | elapsed: 19.7min\n",
      "[Parallel(n_jobs=32)]: Done  81 tasks      | elapsed: 21.8min\n",
      "[Parallel(n_jobs=32)]: Done  98 tasks      | elapsed: 24.8min\n",
      "[Parallel(n_jobs=32)]: Done 117 tasks      | elapsed: 27.8min\n",
      "[Parallel(n_jobs=32)]: Done 149 out of 192 | elapsed: 32.9min remaining:  9.5min\n",
      "[Parallel(n_jobs=32)]: Done 169 out of 192 | elapsed: 38.7min remaining:  5.3min\n",
      "[Parallel(n_jobs=32)]: Done 189 out of 192 | elapsed: 54.1min remaining:   51.5s\n",
      "[Parallel(n_jobs=32)]: Done 192 out of 192 | elapsed: 61.7min finished\n"
     ]
    }
   ],
   "source": [
    "search_pipeline = RandomizedSearchCV(\n",
    "    estimator=PredictiveMaintenanceModel(\n",
    "        estimator=est,\n",
    "        artificial_window=monitoring_time\n",
    "    ),\n",
    "    param_distributions=param_distributions,\n",
    "    scoring=scorers,\n",
    "    cv=GroupKFold(n_splits=3),\n",
    "    refit=False,\n",
    "    verbose=10,\n",
    "    n_jobs=N_JOBS,\n",
    "    n_iter=N_JOBS*2,\n",
    "    random_state=RANDOM_STATE\n",
    ")\n",
    "\n",
    "search_pipeline.fit(X_train, y_train, groups_train)\n",
    "\n",
    "cv_results = pd.DataFrame(search_pipeline.cv_results_)"
   ]
  },
  {
   "cell_type": "markdown",
   "metadata": {
    "Collapsed": "false"
   },
   "source": [
    "### Pair plot"
   ]
  },
  {
   "cell_type": "code",
   "execution_count": 59,
   "metadata": {
    "Collapsed": "false"
   },
   "outputs": [],
   "source": [
    "scorer_columns = [f'mean_test_{scorer_name}' for scorer_name in scorers.keys()]\n",
    "scorer_rank_columns = [f'rank_test_{scorer_name}' for scorer_name in scorers.keys()]\n",
    "param_cols = cv_results.columns[cv_results.columns.str.startswith('param_')]"
   ]
  },
  {
   "cell_type": "code",
   "execution_count": 60,
   "metadata": {
    "Collapsed": "false"
   },
   "outputs": [
    {
     "data": {
      "image/png": "[encoded data removed]",
      "text/plain": [
       "<Figure size 540x540 with 9 Axes>"
      ]
     },
     "metadata": {
      "needs_background": "light"
     },
     "output_type": "display_data"
    }
   ],
   "source": [
    "def correlation_analysis(df):\n",
    "    df = df.copy()\n",
    "    df = df.rename(columns={s: f'rank by {s[10:]}' for s in df.columns if s != 'accuracy'})\n",
    "    g = sns.pairplot(df, diag_kind=None)\n",
    "    plt.savefig('./images/azure/experiments_failure_prediction_azure_correlation.pdf', bbox_inches='tight')\n",
    "    plt.show()\n",
    "\n",
    "correlation_analysis(cv_results[scorer_rank_columns])"
   ]
  },
  {
   "cell_type": "markdown",
   "metadata": {
    "Collapsed": "false"
   },
   "source": [
    "# Candidate Models Comparison"
   ]
  },
  {
   "cell_type": "code",
   "execution_count": 61,
   "metadata": {
    "Collapsed": "false"
   },
   "outputs": [
    {
     "data": {
      "text/html": [
       "<div>\n",
       "<style scoped>\n",
       "    .dataframe tbody tr th:only-of-type {\n",
       "        vertical-align: middle;\n",
       "    }\n",
       "\n",
       "    .dataframe tbody tr th {\n",
       "        vertical-align: top;\n",
       "    }\n",
       "\n",
       "    .dataframe thead th {\n",
       "        text-align: right;\n",
       "    }\n",
       "</style>\n",
       "<table border=\"1\" class=\"dataframe\">\n",
       "  <thead>\n",
       "    <tr style=\"text-align: right;\">\n",
       "      <th></th>\n",
       "      <th>A</th>\n",
       "      <th>B</th>\n",
       "      <th>C</th>\n",
       "    </tr>\n",
       "  </thead>\n",
       "  <tbody>\n",
       "    <tr>\n",
       "      <th>rank by AUPRG</th>\n",
       "      <td>1</td>\n",
       "      <td>30</td>\n",
       "      <td>21</td>\n",
       "    </tr>\n",
       "    <tr>\n",
       "      <th>rank by CLASSICAL F1</th>\n",
       "      <td>27</td>\n",
       "      <td>1</td>\n",
       "      <td>2</td>\n",
       "    </tr>\n",
       "    <tr>\n",
       "      <th>rank by EVENT-BASED F1</th>\n",
       "      <td>30</td>\n",
       "      <td>9</td>\n",
       "      <td>1</td>\n",
       "    </tr>\n",
       "    <tr>\n",
       "      <th>param_smoothing_window</th>\n",
       "      <td>1</td>\n",
       "      <td>1</td>\n",
       "      <td>1</td>\n",
       "    </tr>\n",
       "    <tr>\n",
       "      <th>param_estimator__subsample</th>\n",
       "      <td>0.9</td>\n",
       "      <td>0.9</td>\n",
       "      <td>0.8</td>\n",
       "    </tr>\n",
       "    <tr>\n",
       "      <th>param_estimator__n_estimators</th>\n",
       "      <td>256</td>\n",
       "      <td>256</td>\n",
       "      <td>64</td>\n",
       "    </tr>\n",
       "    <tr>\n",
       "      <th>param_estimator__min_child_weight</th>\n",
       "      <td>1</td>\n",
       "      <td>1</td>\n",
       "      <td>4</td>\n",
       "    </tr>\n",
       "    <tr>\n",
       "      <th>param_estimator__max_depth</th>\n",
       "      <td>6</td>\n",
       "      <td>4</td>\n",
       "      <td>5</td>\n",
       "    </tr>\n",
       "    <tr>\n",
       "      <th>param_estimator__learning_rate</th>\n",
       "      <td>0.1</td>\n",
       "      <td>0.2</td>\n",
       "      <td>0.2</td>\n",
       "    </tr>\n",
       "    <tr>\n",
       "      <th>param_estimator__colsample_bytree</th>\n",
       "      <td>1</td>\n",
       "      <td>0.9</td>\n",
       "      <td>0.7</td>\n",
       "    </tr>\n",
       "    <tr>\n",
       "      <th>param_estimator__booster</th>\n",
       "      <td>gbtree</td>\n",
       "      <td>dart</td>\n",
       "      <td>dart</td>\n",
       "    </tr>\n",
       "    <tr>\n",
       "      <th>AUPRG</th>\n",
       "      <td>0.999996</td>\n",
       "      <td>0.999976</td>\n",
       "      <td>0.999986</td>\n",
       "    </tr>\n",
       "    <tr>\n",
       "      <th>CLASSICAL F1</th>\n",
       "      <td>0.953112</td>\n",
       "      <td>0.969032</td>\n",
       "      <td>0.966251</td>\n",
       "    </tr>\n",
       "    <tr>\n",
       "      <th>EVENT-BASED F1</th>\n",
       "      <td>0.943187</td>\n",
       "      <td>0.956367</td>\n",
       "      <td>0.96289</td>\n",
       "    </tr>\n",
       "  </tbody>\n",
       "</table>\n",
       "</div>"
      ],
      "text/plain": [
       "                                          A         B         C\n",
       "rank by AUPRG                             1        30        21\n",
       "rank by CLASSICAL F1                     27         1         2\n",
       "rank by EVENT-BASED F1                   30         9         1\n",
       "param_smoothing_window                    1         1         1\n",
       "param_estimator__subsample              0.9       0.9       0.8\n",
       "param_estimator__n_estimators           256       256        64\n",
       "param_estimator__min_child_weight         1         1         4\n",
       "param_estimator__max_depth                6         4         5\n",
       "param_estimator__learning_rate          0.1       0.2       0.2\n",
       "param_estimator__colsample_bytree         1       0.9       0.7\n",
       "param_estimator__booster             gbtree      dart      dart\n",
       "AUPRG                              0.999996  0.999976  0.999986\n",
       "CLASSICAL F1                       0.953112  0.969032  0.966251\n",
       "EVENT-BASED F1                     0.943187  0.956367   0.96289"
      ]
     },
     "metadata": {},
     "output_type": "display_data"
    }
   ],
   "source": [
    "df = (\n",
    "    cv_results\n",
    "    .copy()\n",
    "    .loc[lambda df: df[scorer_rank_columns].min(axis=1).eq(1),\n",
    "         [*scorer_rank_columns, *param_cols, *scorer_columns]]\n",
    "    .reset_index(drop=True)\n",
    ")\n",
    "df[scorer_columns] = df[scorer_columns].astype(float).round(10)\n",
    "df = df.rename(columns={s: f'rank by {s.upper()[10:]}' for s in scorer_rank_columns})\n",
    "df = df.rename(columns={s: f'{s.upper()[10:]}' for s in scorer_columns})\n",
    "df = df.T\n",
    "df.columns = list(string.ascii_uppercase[:df.columns.shape[0]])\n",
    "df.to_latex('./images/azure/candidate_models.tex')\n",
    "display(df)\n",
    "\n",
    "candidate_models_parameters = df"
   ]
  },
  {
   "cell_type": "markdown",
   "metadata": {
    "Collapsed": "false"
   },
   "source": [
    "## Train the Candidate Models on Full Training Set"
   ]
  },
  {
   "cell_type": "code",
   "execution_count": 62,
   "metadata": {
    "Collapsed": "false"
   },
   "outputs": [],
   "source": [
    "model_ids = ['AUPRG', 'event-based F1', 'classical F1']"
   ]
  },
  {
   "cell_type": "code",
   "execution_count": 63,
   "metadata": {
    "Collapsed": "false"
   },
   "outputs": [
    {
     "name": "stdout",
     "output_type": "stream",
     "text": [
      "{'smoothing_window': 1, 'estimator__subsample': 0.9, 'estimator__n_estimators': 256, 'estimator__min_child_weight': 1, 'estimator__max_depth': 6, 'estimator__learning_rate': 0.1, 'estimator__colsample_bytree': 1, 'estimator__booster': 'gbtree'}\n",
      "{'smoothing_window': 1, 'estimator__subsample': 0.9, 'estimator__n_estimators': 256, 'estimator__min_child_weight': 1, 'estimator__max_depth': 4, 'estimator__learning_rate': 0.2, 'estimator__colsample_bytree': 0.9, 'estimator__booster': 'dart'}\n",
      "{'smoothing_window': 1, 'estimator__subsample': 0.8, 'estimator__n_estimators': 64, 'estimator__min_child_weight': 4, 'estimator__max_depth': 5, 'estimator__learning_rate': 0.2, 'estimator__colsample_bytree': 0.7, 'estimator__booster': 'dart'}\n"
     ]
    },
    {
     "data": {
      "text/plain": [
       "[PredictiveMaintenanceModel(artificial_window=24, decision_threshold=0.5,\n",
       "                            estimator=XGBClassifier(base_score=0.5,\n",
       "                                                    booster='gbtree',\n",
       "                                                    colsample_bylevel=1,\n",
       "                                                    colsample_bynode=1,\n",
       "                                                    colsample_bytree=1, gamma=0,\n",
       "                                                    gpu_id=-1,\n",
       "                                                    importance_type='gain',\n",
       "                                                    interaction_constraints=None,\n",
       "                                                    learning_rate=0.1,\n",
       "                                                    max_delta_step=0,\n",
       "                                                    max_depth=6,\n",
       "                                                    min_child_weight=1,\n",
       "                                                    missing=nan,\n",
       "                                                    monotone_constraints=None,\n",
       "                                                    n_estimators=256, n_jobs=32,\n",
       "                                                    num_parallel_tree=1,\n",
       "                                                    objective='binary:logistic',\n",
       "                                                    random_state=1, reg_alpha=0,\n",
       "                                                    reg_lambda=1,\n",
       "                                                    scale_pos_weight=1,\n",
       "                                                    subsample=0.9,\n",
       "                                                    tree_method=None,\n",
       "                                                    validate_parameters=False,\n",
       "                                                    verbosity=None),\n",
       "                            smoothing_window=1),\n",
       " PredictiveMaintenanceModel(artificial_window=24, decision_threshold=0.5,\n",
       "                            estimator=XGBClassifier(base_score=0.5,\n",
       "                                                    booster='dart',\n",
       "                                                    colsample_bylevel=1,\n",
       "                                                    colsample_bynode=1,\n",
       "                                                    colsample_bytree=0.9,\n",
       "                                                    gamma=0, gpu_id=-1,\n",
       "                                                    importance_type='gain',\n",
       "                                                    interaction_constraints=None,\n",
       "                                                    learning_rate=0.2,\n",
       "                                                    max_delta_step=0,\n",
       "                                                    max_depth=4,\n",
       "                                                    min_child_weight=1,\n",
       "                                                    missing=nan,\n",
       "                                                    monotone_constraints=None,\n",
       "                                                    n_estimators=256, n_jobs=32,\n",
       "                                                    num_parallel_tree=1,\n",
       "                                                    objective='binary:logistic',\n",
       "                                                    random_state=1, reg_alpha=0,\n",
       "                                                    reg_lambda=1,\n",
       "                                                    scale_pos_weight=1,\n",
       "                                                    subsample=0.9,\n",
       "                                                    tree_method=None,\n",
       "                                                    validate_parameters=False,\n",
       "                                                    verbosity=None),\n",
       "                            smoothing_window=1),\n",
       " PredictiveMaintenanceModel(artificial_window=24, decision_threshold=0.5,\n",
       "                            estimator=XGBClassifier(base_score=0.5,\n",
       "                                                    booster='dart',\n",
       "                                                    colsample_bylevel=1,\n",
       "                                                    colsample_bynode=1,\n",
       "                                                    colsample_bytree=0.7,\n",
       "                                                    gamma=0, gpu_id=-1,\n",
       "                                                    importance_type='gain',\n",
       "                                                    interaction_constraints=None,\n",
       "                                                    learning_rate=0.2,\n",
       "                                                    max_delta_step=0,\n",
       "                                                    max_depth=5,\n",
       "                                                    min_child_weight=4,\n",
       "                                                    missing=nan,\n",
       "                                                    monotone_constraints=None,\n",
       "                                                    n_estimators=64, n_jobs=32,\n",
       "                                                    num_parallel_tree=1,\n",
       "                                                    objective='binary:logistic',\n",
       "                                                    random_state=1, reg_alpha=0,\n",
       "                                                    reg_lambda=1,\n",
       "                                                    scale_pos_weight=1,\n",
       "                                                    subsample=0.8,\n",
       "                                                    tree_method=None,\n",
       "                                                    validate_parameters=False,\n",
       "                                                    verbosity=None),\n",
       "                            smoothing_window=1)]"
      ]
     },
     "execution_count": 63,
     "metadata": {},
     "output_type": "execute_result"
    }
   ],
   "source": [
    "candidate_models = []\n",
    "# for i in range(len(selected_models_parameters.columns)):\n",
    "for i in range(len(candidate_models_parameters.columns)):\n",
    "    params = candidate_models_parameters.T[param_cols]\n",
    "    params.columns = params.columns.str[6:]\n",
    "    params = params.iloc[i].to_dict()\n",
    "    print(params)\n",
    "    model = PredictiveMaintenanceModel(\n",
    "        estimator=XGBClassifier(n_jobs=N_JOBS, random_state=1),\n",
    "        artificial_window=monitoring_time\n",
    "    )\n",
    "    model.set_params(**params)\n",
    "    model.fit(X_train, y_train)\n",
    "    candidate_models.append(model)\n",
    "candidate_models"
   ]
  },
  {
   "cell_type": "markdown",
   "metadata": {
    "Collapsed": "false"
   },
   "source": [
    "## Calculate PR Curves"
   ]
  },
  {
   "cell_type": "code",
   "execution_count": 64,
   "metadata": {
    "Collapsed": "false"
   },
   "outputs": [
    {
     "name": "stderr",
     "output_type": "stream",
     "text": [
      "100%|██████████| 3072/3072 [00:13<00:00, 227.84it/s]\n",
      "100%|██████████| 3201/3201 [00:14<00:00, 225.16it/s]\n",
      "100%|██████████| 3169/3169 [00:16<00:00, 186.92it/s]\n"
     ]
    },
    {
     "name": "stdout",
     "output_type": "stream",
     "text": [
      "CPU times: user 1min 42s, sys: 17.5 s, total: 1min 59s\n",
      "Wall time: 3min 2s\n"
     ]
    }
   ],
   "source": [
    "%%time\n",
    "models_pr_curves = []\n",
    "\n",
    "alpha = 0.8\n",
    "\n",
    "for model in candidate_models:\n",
    "\n",
    "    y_true_series = y_test\n",
    "    y_score_series = model.predict_proba(X_test)\n",
    "\n",
    "    thresholds = np.sort(np.unique(np.hstack(y_score_series)))\n",
    "    # There are lots of predictions with low scores - omit low thresholds\n",
    "    thresholds = thresholds[thresholds >= 0.01]\n",
    "\n",
    "    def get_pred_from_score(y_score_series, threshold):\n",
    "        y_pred_series = [\n",
    "                np.array(y_score) >= threshold\n",
    "            for y_score in y_score_series\n",
    "        ]\n",
    "        return y_pred_series\n",
    "          \n",
    "    def f(threshold):\n",
    "        y_pred_series = get_pred_from_score(y_score_series, threshold)\n",
    "        recall = recall_reduced_score(y_true_series, y_pred_series, monitoring_time, warning_time, alpha)\n",
    "        precision = precision_reduced_score(y_true_series, y_pred_series, monitoring_time, warning_time, alpha)\n",
    "        return [recall, precision]\n",
    "    \n",
    "    pool = multiprocessing.Pool(N_JOBS)\n",
    "\n",
    "    results = pool.map(f, tqdm(thresholds))\n",
    "    pool.close()\n",
    "    recalls, precisions = np.array(results).T\n",
    "    \n",
    "    models_pr_curves.append((precisions, recalls, thresholds))"
   ]
  },
  {
   "cell_type": "code",
   "execution_count": 65,
   "metadata": {
    "Collapsed": "false"
   },
   "outputs": [
    {
     "data": {
      "image/png": "[encoded data removed]",
      "text/plain": [
       "<Figure size 432x288 with 1 Axes>"
      ]
     },
     "metadata": {
      "needs_background": "light"
     },
     "output_type": "display_data"
    }
   ],
   "source": [
    "plt.figure(figsize=(6, 4))\n",
    "for metric, (precisions, recalls, thresholds) in zip(model_ids, models_pr_curves):\n",
    "    plt.plot(recalls, precisions, label=metric, alpha=0.8)\n",
    "plt.xlabel('event-based recall')\n",
    "plt.ylabel('event-based precision')\n",
    "plt.ylim(0.58, 1.02)\n",
    "plt.xlim(0.58, 1.02)\n",
    "plt.legend(title='Model selected by:')\n",
    "plt.grid()\n",
    "plt.savefig('./images/azure/experiments_failure_prediction_azure_pr_curves_reduced.pdf', bbox_inches='tight')"
   ]
  },
  {
   "cell_type": "code",
   "execution_count": 67,
   "metadata": {
    "Collapsed": "false"
   },
   "outputs": [
    {
     "name": "stdout",
     "output_type": "stream",
     "text": [
      "CPU times: user 1min 17s, sys: 764 ms, total: 1min 18s\n",
      "Wall time: 3.71 s\n"
     ]
    }
   ],
   "source": [
    "%%time\n",
    "models_classical_pr_curves = []\n",
    "\n",
    "for model in candidate_models:\n",
    "    y_true_series = y_test\n",
    "    y_score_series = model.predict_proba(X_test)\n",
    "    (precisions, recalls, thresholds) = series_scorer(precision_recall_curve, monitoring_time, warning_time)(y_true_series, y_score_series)\n",
    "    models_classical_pr_curves.append([precisions, recalls, thresholds])"
   ]
  },
  {
   "cell_type": "code",
   "execution_count": 68,
   "metadata": {
    "Collapsed": "false"
   },
   "outputs": [
    {
     "data": {
      "image/png": "[encoded data removed]",
      "text/plain": [
       "<Figure size 432x288 with 1 Axes>"
      ]
     },
     "metadata": {
      "needs_background": "light"
     },
     "output_type": "display_data"
    }
   ],
   "source": [
    "plt.figure(figsize=(6, 4))\n",
    "for model_id, (precisions, recalls, thresholds) in zip(model_ids, models_classical_pr_curves):\n",
    "    mask = recalls < 2\n",
    "    plt.plot(recalls[mask], precisions[mask], label=model_id)\n",
    "plt.xlabel('classical recall')\n",
    "plt.ylabel('classical precision')\n",
    "plt.ylim(0.58, 1.02)\n",
    "plt.xlim(0.58, 1.02)\n",
    "plt.grid()\n",
    "plt.legend(title='Model selected by:')\n",
    "plt.savefig('./images/azure/experiments_failure_prediction_azure_pr_curves_ts.pdf', bbox_inches='tight')"
   ]
  },
  {
   "cell_type": "code",
   "execution_count": 69,
   "metadata": {
    "Collapsed": "false"
   },
   "outputs": [
    {
     "name": "stdout",
     "output_type": "stream",
     "text": [
      "Model selected by AUPRG\n"
     ]
    },
    {
     "data": {
      "image/png": "[encoded data removed]",
      "text/plain": [
       "<Figure size 720x432 with 1 Axes>"
      ]
     },
     "metadata": {
      "needs_background": "light"
     },
     "output_type": "display_data"
    },
    {
     "name": "stdout",
     "output_type": "stream",
     "text": [
      "Model selected by event-based F1\n"
     ]
    },
    {
     "data": {
      "image/png": "[encoded data removed]",
      "text/plain": [
       "<Figure size 720x432 with 1 Axes>"
      ]
     },
     "metadata": {
      "needs_background": "light"
     },
     "output_type": "display_data"
    },
    {
     "name": "stdout",
     "output_type": "stream",
     "text": [
      "Model selected by classical F1\n"
     ]
    },
    {
     "data": {
      "image/png": "[encoded data removed]",
      "text/plain": [
       "<Figure size 720x432 with 1 Axes>"
      ]
     },
     "metadata": {
      "needs_background": "light"
     },
     "output_type": "display_data"
    }
   ],
   "source": [
    "def calc_f1(prec, rec):\n",
    "    return 2*prec*rec / (prec + rec)\n",
    "\n",
    "for (model_id,\n",
    "    (precisions, recalls, thresholds),\n",
    "    (reduced_precisions, reduced_recalls, reduced_threhsolds),\n",
    "    (existence_precisions, existence_recalls, existence_threhsolds),\n",
    ") in list(zip(\n",
    "        model_ids,\n",
    "        models_classical_pr_curves,\n",
    "        models_pr_curves,\n",
    "        models_existence_pr_curves,\n",
    ")):\n",
    "    fig, ax = plt.subplots(figsize=(10, 6))\n",
    "    plt.plot(np.r_[thresholds, 1], recalls, label='classical recall', color='red', alpha=0.3)\n",
    "    plt.plot(np.r_[thresholds, 1], precisions, label='classical precision', color='green', alpha=0.3)\n",
    "    plt.plot(np.r_[thresholds, 1], calc_f1(precisions, recalls), label='classical F1', color='purple', alpha=0.3)\n",
    "    plt.plot(reduced_threhsolds, reduced_recalls, label='event-based recall', color='red')\n",
    "    plt.plot(reduced_threhsolds, reduced_precisions, label='event-based precision', color='green')\n",
    "    plt.plot(reduced_threhsolds, calc_f1(reduced_precisions, reduced_recalls), label='event-based F1', color='purple')\n",
    "    plt.xlabel('decision threshold')\n",
    "    print(f'Model selected by {model_id}')\n",
    "    plt.grid()\n",
    "    plt.ylim(0.85, 1.01)\n",
    "    \n",
    "    ax.figure.legend(loc='upper left', bbox_to_anchor=(0.35, 0.35))\n",
    "    plt.savefig(f'./images/azure/experiments_failure_prediction_azure_multicurve_{model_id}.pdf', bbox_inches='tight')\n",
    "    plt.show()"
   ]
  }
 ],
 "metadata": {
  "kernelspec": {
   "display_name": "pmlib",
   "language": "python",
   "name": "pmlib"
  },
  "language_info": {
   "codemirror_mode": {
    "name": "ipython",
    "version": 3
   },
   "file_extension": ".py",
   "mimetype": "text/x-python",
   "name": "python",
   "nbconvert_exporter": "python",
   "pygments_lexer": "ipython3",
   "version": "3.7.6"
  },
  "toc-autonumbering": true,
  "toc-showcode": false,
  "toc-showtags": false
 },
 "nbformat": 4,
 "nbformat_minor": 4
}
