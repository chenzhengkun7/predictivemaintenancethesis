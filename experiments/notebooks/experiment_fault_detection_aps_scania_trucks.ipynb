{
 "cells": [
  {
   "cell_type": "markdown",
   "metadata": {
    "Collapsed": "false"
   },
   "source": [
    "# Fault Detection of APS Scania Trucks\n",
    "\n",
    "Outline:\n",
    "\n",
    "1. [Data Loading](#Data-Loading)\n",
    "1. [Modeling](#Modeling)\n",
    "1. [Evaluation](#Evaluation)"
   ]
  },
  {
   "cell_type": "code",
   "execution_count": 1,
   "metadata": {
    "Collapsed": "false"
   },
   "outputs": [],
   "source": [
    "# Enable autoreloading\n",
    "%reload_ext autoreload\n",
    "%autoreload 2"
   ]
  },
  {
   "cell_type": "code",
   "execution_count": 2,
   "metadata": {
    "Collapsed": "false",
    "incorrectly_encoded_metadata": "Collapsed=\"false\" toc-hr-collapsed=true toc-nb-collapsed=true"
   },
   "outputs": [],
   "source": [
    "import matplotlib.pyplot as plt\n",
    "import numpy as np\n",
    "import pandas as pd\n",
    "import seaborn as sns\n",
    "\n",
    "\n",
    "from sklearn.impute import SimpleImputer\n",
    "from sklearn.metrics import (accuracy_score,\n",
    "                             f1_score,\n",
    "                             make_scorer,\n",
    "                             precision_recall_curve,\n",
    "                             plot_precision_recall_curve,\n",
    "                             roc_auc_score)\n",
    "from sklearn.metrics import accuracy_score, precision_score, recall_score\n",
    "from sklearn.metrics import plot_precision_recall_curve\n",
    "from sklearn.model_selection import train_test_split\n",
    "from sklearn.pipeline import Pipeline\n",
    "from urllib.parse import urljoin\n",
    "from urllib.request import urlopen\n",
    "from xgboost import XGBClassifier\n",
    "\n",
    "from pmlib.evaluation.classical import aupr_score, auprg_score"
   ]
  },
  {
   "cell_type": "code",
   "execution_count": 3,
   "metadata": {
    "Collapsed": "false"
   },
   "outputs": [],
   "source": [
    "N_JOBS = 32\n",
    "RANDOM_STATE = 7"
   ]
  },
  {
   "cell_type": "code",
   "execution_count": 34,
   "metadata": {
    "Collapsed": "false"
   },
   "outputs": [],
   "source": [
    "!mkdir -p ./images/scania/"
   ]
  },
  {
   "cell_type": "markdown",
   "metadata": {
    "Collapsed": "false",
    "incorrectly_encoded_metadata": "Collapsed=\"true\" toc-hr-collapsed=true toc-nb-collapsed=true"
   },
   "source": [
    "# Data Loading"
   ]
  },
  {
   "cell_type": "markdown",
   "metadata": {
    "Collapsed": "false"
   },
   "source": [
    "The data set consits of 76K rows and 171 columns.\n",
    "Each row represent data about one APS Scania truck where:\n",
    " - column 'class' contains a binary variable whether a failure occured;\n",
    " - the rest of the columns represent 170 anonymized features.\n",
    "\n",
    "The amount of positive classes in the data set is 1375 (1.81 % of total samples)."
   ]
  },
  {
   "cell_type": "code",
   "execution_count": 4,
   "metadata": {
    "Collapsed": "false"
   },
   "outputs": [],
   "source": [
    "def load_aps_scania_trucks_data_set():\n",
    "\n",
    "    base_url = 'http://archive.ics.uci.edu/ml/machine-learning-databases/00421/'\n",
    "    \n",
    "    def load_data_csv(file_name):\n",
    "        data = pd.read_csv(base_url + file_name, skiprows=20, na_values=\"na\")\n",
    "        data['class'] = data['class'].replace({'neg': 0, 'pos': 1}).astype(int)\n",
    "        return data\n",
    "    \n",
    "    data_train = load_data_csv('aps_failure_training_set.csv')\n",
    "    data_test = load_data_csv('aps_failure_test_set.csv')\n",
    "    \n",
    "    return data_train, data_test"
   ]
  },
  {
   "cell_type": "code",
   "execution_count": 5,
   "metadata": {
    "Collapsed": "false"
   },
   "outputs": [],
   "source": [
    "data_train, data_test = load_aps_scania_trucks_data_set()\n",
    "\n",
    "target_col = 'class'\n",
    "feature_cols = data_train.drop(columns=[target_col]).columns"
   ]
  },
  {
   "cell_type": "code",
   "execution_count": 6,
   "metadata": {
    "Collapsed": "false"
   },
   "outputs": [
    {
     "name": "stdout",
     "output_type": "stream",
     "text": [
      "<class 'pandas.core.frame.DataFrame'>\n",
      "RangeIndex: 60000 entries, 0 to 59999\n",
      "Columns: 171 entries, class to eg_000\n",
      "dtypes: float64(169), int64(2)\n",
      "memory usage: 78.3 MB\n"
     ]
    }
   ],
   "source": [
    "data_train.info()"
   ]
  },
  {
   "cell_type": "code",
   "execution_count": 7,
   "metadata": {
    "Collapsed": "false"
   },
   "outputs": [
    {
     "data": {
      "text/html": [
       "<div>\n",
       "<style scoped>\n",
       "    .dataframe tbody tr th:only-of-type {\n",
       "        vertical-align: middle;\n",
       "    }\n",
       "\n",
       "    .dataframe tbody tr th {\n",
       "        vertical-align: top;\n",
       "    }\n",
       "\n",
       "    .dataframe thead th {\n",
       "        text-align: right;\n",
       "    }\n",
       "</style>\n",
       "<table border=\"1\" class=\"dataframe\">\n",
       "  <thead>\n",
       "    <tr style=\"text-align: right;\">\n",
       "      <th></th>\n",
       "      <th>class</th>\n",
       "      <th>aa_000</th>\n",
       "      <th>ab_000</th>\n",
       "      <th>ac_000</th>\n",
       "      <th>ad_000</th>\n",
       "      <th>ae_000</th>\n",
       "      <th>af_000</th>\n",
       "      <th>ag_000</th>\n",
       "      <th>ag_001</th>\n",
       "      <th>ag_002</th>\n",
       "      <th>...</th>\n",
       "      <th>ee_002</th>\n",
       "      <th>ee_003</th>\n",
       "      <th>ee_004</th>\n",
       "      <th>ee_005</th>\n",
       "      <th>ee_006</th>\n",
       "      <th>ee_007</th>\n",
       "      <th>ee_008</th>\n",
       "      <th>ee_009</th>\n",
       "      <th>ef_000</th>\n",
       "      <th>eg_000</th>\n",
       "    </tr>\n",
       "  </thead>\n",
       "  <tbody>\n",
       "    <tr>\n",
       "      <th>49065</th>\n",
       "      <td>0</td>\n",
       "      <td>1506</td>\n",
       "      <td>0.0</td>\n",
       "      <td>4.000000e+01</td>\n",
       "      <td>NaN</td>\n",
       "      <td>0.0</td>\n",
       "      <td>0.0</td>\n",
       "      <td>0.0</td>\n",
       "      <td>0.0</td>\n",
       "      <td>0.0</td>\n",
       "      <td>...</td>\n",
       "      <td>4390.0</td>\n",
       "      <td>2494.0</td>\n",
       "      <td>3916.0</td>\n",
       "      <td>5792.0</td>\n",
       "      <td>10112.0</td>\n",
       "      <td>35028.0</td>\n",
       "      <td>0.0</td>\n",
       "      <td>0.0</td>\n",
       "      <td>0.0</td>\n",
       "      <td>0.0</td>\n",
       "    </tr>\n",
       "    <tr>\n",
       "      <th>1132</th>\n",
       "      <td>0</td>\n",
       "      <td>39720</td>\n",
       "      <td>NaN</td>\n",
       "      <td>1.822000e+03</td>\n",
       "      <td>1566.0</td>\n",
       "      <td>0.0</td>\n",
       "      <td>0.0</td>\n",
       "      <td>0.0</td>\n",
       "      <td>0.0</td>\n",
       "      <td>0.0</td>\n",
       "      <td>...</td>\n",
       "      <td>429532.0</td>\n",
       "      <td>120786.0</td>\n",
       "      <td>359176.0</td>\n",
       "      <td>349902.0</td>\n",
       "      <td>245948.0</td>\n",
       "      <td>72538.0</td>\n",
       "      <td>22962.0</td>\n",
       "      <td>0.0</td>\n",
       "      <td>0.0</td>\n",
       "      <td>0.0</td>\n",
       "    </tr>\n",
       "    <tr>\n",
       "      <th>21283</th>\n",
       "      <td>0</td>\n",
       "      <td>29362</td>\n",
       "      <td>NaN</td>\n",
       "      <td>6.480000e+02</td>\n",
       "      <td>556.0</td>\n",
       "      <td>0.0</td>\n",
       "      <td>0.0</td>\n",
       "      <td>0.0</td>\n",
       "      <td>0.0</td>\n",
       "      <td>0.0</td>\n",
       "      <td>...</td>\n",
       "      <td>276058.0</td>\n",
       "      <td>141468.0</td>\n",
       "      <td>353396.0</td>\n",
       "      <td>266642.0</td>\n",
       "      <td>123330.0</td>\n",
       "      <td>56012.0</td>\n",
       "      <td>83014.0</td>\n",
       "      <td>19488.0</td>\n",
       "      <td>0.0</td>\n",
       "      <td>0.0</td>\n",
       "    </tr>\n",
       "    <tr>\n",
       "      <th>17742</th>\n",
       "      <td>0</td>\n",
       "      <td>38172</td>\n",
       "      <td>NaN</td>\n",
       "      <td>2.130706e+09</td>\n",
       "      <td>1018.0</td>\n",
       "      <td>0.0</td>\n",
       "      <td>0.0</td>\n",
       "      <td>0.0</td>\n",
       "      <td>0.0</td>\n",
       "      <td>0.0</td>\n",
       "      <td>...</td>\n",
       "      <td>309250.0</td>\n",
       "      <td>143244.0</td>\n",
       "      <td>267738.0</td>\n",
       "      <td>259446.0</td>\n",
       "      <td>199118.0</td>\n",
       "      <td>155488.0</td>\n",
       "      <td>275854.0</td>\n",
       "      <td>7960.0</td>\n",
       "      <td>0.0</td>\n",
       "      <td>0.0</td>\n",
       "    </tr>\n",
       "    <tr>\n",
       "      <th>20046</th>\n",
       "      <td>0</td>\n",
       "      <td>40184</td>\n",
       "      <td>NaN</td>\n",
       "      <td>1.320000e+02</td>\n",
       "      <td>70.0</td>\n",
       "      <td>0.0</td>\n",
       "      <td>0.0</td>\n",
       "      <td>0.0</td>\n",
       "      <td>0.0</td>\n",
       "      <td>0.0</td>\n",
       "      <td>...</td>\n",
       "      <td>209528.0</td>\n",
       "      <td>105550.0</td>\n",
       "      <td>231844.0</td>\n",
       "      <td>225810.0</td>\n",
       "      <td>263654.0</td>\n",
       "      <td>234894.0</td>\n",
       "      <td>421192.0</td>\n",
       "      <td>8274.0</td>\n",
       "      <td>0.0</td>\n",
       "      <td>0.0</td>\n",
       "    </tr>\n",
       "    <tr>\n",
       "      <th>40369</th>\n",
       "      <td>0</td>\n",
       "      <td>1748</td>\n",
       "      <td>NaN</td>\n",
       "      <td>1.580000e+02</td>\n",
       "      <td>132.0</td>\n",
       "      <td>0.0</td>\n",
       "      <td>0.0</td>\n",
       "      <td>0.0</td>\n",
       "      <td>0.0</td>\n",
       "      <td>0.0</td>\n",
       "      <td>...</td>\n",
       "      <td>4442.0</td>\n",
       "      <td>2114.0</td>\n",
       "      <td>10600.0</td>\n",
       "      <td>58740.0</td>\n",
       "      <td>1980.0</td>\n",
       "      <td>68.0</td>\n",
       "      <td>22.0</td>\n",
       "      <td>0.0</td>\n",
       "      <td>0.0</td>\n",
       "      <td>0.0</td>\n",
       "    </tr>\n",
       "    <tr>\n",
       "      <th>46673</th>\n",
       "      <td>0</td>\n",
       "      <td>80142</td>\n",
       "      <td>NaN</td>\n",
       "      <td>7.600000e+02</td>\n",
       "      <td>724.0</td>\n",
       "      <td>0.0</td>\n",
       "      <td>0.0</td>\n",
       "      <td>0.0</td>\n",
       "      <td>0.0</td>\n",
       "      <td>0.0</td>\n",
       "      <td>...</td>\n",
       "      <td>1047064.0</td>\n",
       "      <td>492698.0</td>\n",
       "      <td>968452.0</td>\n",
       "      <td>747270.0</td>\n",
       "      <td>474148.0</td>\n",
       "      <td>56622.0</td>\n",
       "      <td>352.0</td>\n",
       "      <td>0.0</td>\n",
       "      <td>0.0</td>\n",
       "      <td>0.0</td>\n",
       "    </tr>\n",
       "    <tr>\n",
       "      <th>40966</th>\n",
       "      <td>0</td>\n",
       "      <td>28</td>\n",
       "      <td>NaN</td>\n",
       "      <td>0.000000e+00</td>\n",
       "      <td>NaN</td>\n",
       "      <td>0.0</td>\n",
       "      <td>0.0</td>\n",
       "      <td>0.0</td>\n",
       "      <td>0.0</td>\n",
       "      <td>0.0</td>\n",
       "      <td>...</td>\n",
       "      <td>652.0</td>\n",
       "      <td>12.0</td>\n",
       "      <td>0.0</td>\n",
       "      <td>0.0</td>\n",
       "      <td>0.0</td>\n",
       "      <td>0.0</td>\n",
       "      <td>0.0</td>\n",
       "      <td>0.0</td>\n",
       "      <td>0.0</td>\n",
       "      <td>0.0</td>\n",
       "    </tr>\n",
       "    <tr>\n",
       "      <th>54822</th>\n",
       "      <td>0</td>\n",
       "      <td>63204</td>\n",
       "      <td>NaN</td>\n",
       "      <td>0.000000e+00</td>\n",
       "      <td>NaN</td>\n",
       "      <td>0.0</td>\n",
       "      <td>0.0</td>\n",
       "      <td>0.0</td>\n",
       "      <td>0.0</td>\n",
       "      <td>0.0</td>\n",
       "      <td>...</td>\n",
       "      <td>584266.0</td>\n",
       "      <td>287170.0</td>\n",
       "      <td>546266.0</td>\n",
       "      <td>476306.0</td>\n",
       "      <td>341010.0</td>\n",
       "      <td>208564.0</td>\n",
       "      <td>301682.0</td>\n",
       "      <td>17056.0</td>\n",
       "      <td>0.0</td>\n",
       "      <td>0.0</td>\n",
       "    </tr>\n",
       "    <tr>\n",
       "      <th>57587</th>\n",
       "      <td>0</td>\n",
       "      <td>0</td>\n",
       "      <td>NaN</td>\n",
       "      <td>3.600000e+01</td>\n",
       "      <td>14.0</td>\n",
       "      <td>0.0</td>\n",
       "      <td>0.0</td>\n",
       "      <td>0.0</td>\n",
       "      <td>0.0</td>\n",
       "      <td>0.0</td>\n",
       "      <td>...</td>\n",
       "      <td>168.0</td>\n",
       "      <td>38.0</td>\n",
       "      <td>76.0</td>\n",
       "      <td>12.0</td>\n",
       "      <td>10.0</td>\n",
       "      <td>2.0</td>\n",
       "      <td>0.0</td>\n",
       "      <td>0.0</td>\n",
       "      <td>0.0</td>\n",
       "      <td>0.0</td>\n",
       "    </tr>\n",
       "  </tbody>\n",
       "</table>\n",
       "<p>10 rows × 171 columns</p>\n",
       "</div>"
      ],
      "text/plain": [
       "       class  aa_000  ab_000        ac_000  ad_000  ae_000  af_000  ag_000  \\\n",
       "49065      0    1506     0.0  4.000000e+01     NaN     0.0     0.0     0.0   \n",
       "1132       0   39720     NaN  1.822000e+03  1566.0     0.0     0.0     0.0   \n",
       "21283      0   29362     NaN  6.480000e+02   556.0     0.0     0.0     0.0   \n",
       "17742      0   38172     NaN  2.130706e+09  1018.0     0.0     0.0     0.0   \n",
       "20046      0   40184     NaN  1.320000e+02    70.0     0.0     0.0     0.0   \n",
       "40369      0    1748     NaN  1.580000e+02   132.0     0.0     0.0     0.0   \n",
       "46673      0   80142     NaN  7.600000e+02   724.0     0.0     0.0     0.0   \n",
       "40966      0      28     NaN  0.000000e+00     NaN     0.0     0.0     0.0   \n",
       "54822      0   63204     NaN  0.000000e+00     NaN     0.0     0.0     0.0   \n",
       "57587      0       0     NaN  3.600000e+01    14.0     0.0     0.0     0.0   \n",
       "\n",
       "       ag_001  ag_002  ...     ee_002    ee_003    ee_004    ee_005    ee_006  \\\n",
       "49065     0.0     0.0  ...     4390.0    2494.0    3916.0    5792.0   10112.0   \n",
       "1132      0.0     0.0  ...   429532.0  120786.0  359176.0  349902.0  245948.0   \n",
       "21283     0.0     0.0  ...   276058.0  141468.0  353396.0  266642.0  123330.0   \n",
       "17742     0.0     0.0  ...   309250.0  143244.0  267738.0  259446.0  199118.0   \n",
       "20046     0.0     0.0  ...   209528.0  105550.0  231844.0  225810.0  263654.0   \n",
       "40369     0.0     0.0  ...     4442.0    2114.0   10600.0   58740.0    1980.0   \n",
       "46673     0.0     0.0  ...  1047064.0  492698.0  968452.0  747270.0  474148.0   \n",
       "40966     0.0     0.0  ...      652.0      12.0       0.0       0.0       0.0   \n",
       "54822     0.0     0.0  ...   584266.0  287170.0  546266.0  476306.0  341010.0   \n",
       "57587     0.0     0.0  ...      168.0      38.0      76.0      12.0      10.0   \n",
       "\n",
       "         ee_007    ee_008   ee_009  ef_000  eg_000  \n",
       "49065   35028.0       0.0      0.0     0.0     0.0  \n",
       "1132    72538.0   22962.0      0.0     0.0     0.0  \n",
       "21283   56012.0   83014.0  19488.0     0.0     0.0  \n",
       "17742  155488.0  275854.0   7960.0     0.0     0.0  \n",
       "20046  234894.0  421192.0   8274.0     0.0     0.0  \n",
       "40369      68.0      22.0      0.0     0.0     0.0  \n",
       "46673   56622.0     352.0      0.0     0.0     0.0  \n",
       "40966       0.0       0.0      0.0     0.0     0.0  \n",
       "54822  208564.0  301682.0  17056.0     0.0     0.0  \n",
       "57587       2.0       0.0      0.0     0.0     0.0  \n",
       "\n",
       "[10 rows x 171 columns]"
      ]
     },
     "execution_count": 7,
     "metadata": {},
     "output_type": "execute_result"
    }
   ],
   "source": [
    "data_train.sample(10)"
   ]
  },
  {
   "cell_type": "code",
   "execution_count": 8,
   "metadata": {
    "Collapsed": "false"
   },
   "outputs": [
    {
     "data": {
      "text/plain": [
       "br_000    49264\n",
       "bq_000    48722\n",
       "bp_000    47740\n",
       "bo_000    46333\n",
       "cr_000    46329\n",
       "ab_000    46329\n",
       "bn_000    44009\n",
       "bm_000    39549\n",
       "bl_000    27277\n",
       "bk_000    23034\n",
       "dtype: int64"
      ]
     },
     "execution_count": 8,
     "metadata": {},
     "output_type": "execute_result"
    }
   ],
   "source": [
    "data_train.isna().sum().sort_values(ascending=False).head(10)"
   ]
  },
  {
   "cell_type": "code",
   "execution_count": 9,
   "metadata": {
    "Collapsed": "false"
   },
   "outputs": [
    {
     "name": "stdout",
     "output_type": "stream",
     "text": [
      "Dataset size: 60000 samples\n",
      "Positive classes: 1000 (1.67 %)\n",
      "Dataset size: 16000 samples\n",
      "Positive classes: 375 (2.34 %)\n"
     ]
    }
   ],
   "source": [
    "for df in [data_train, data_test]:\n",
    "    samples = df.shape[0]\n",
    "    pos = df[\"class\"].sum()\n",
    "    pos_pctg = np.round(100 * pos / samples, 2)\n",
    "\n",
    "    print(f'Dataset size: {samples} samples')\n",
    "    print(f'Positive classes: {pos} ({pos_pctg} %)')"
   ]
  },
  {
   "cell_type": "markdown",
   "metadata": {
    "Collapsed": "false",
    "incorrectly_encoded_metadata": "Collapsed=\"false\" toc-hr-collapsed=true toc-nb-collapsed=true"
   },
   "source": [
    "## Data Splitting"
   ]
  },
  {
   "cell_type": "code",
   "execution_count": 10,
   "metadata": {
    "Collapsed": "false"
   },
   "outputs": [],
   "source": [
    "data_train_cv, data_train_val = train_test_split(data_train, test_size=0.2, stratify=data_train['class'], shuffle=True, random_state=RANDOM_STATE)\n",
    "\n",
    "X_train, y_train = data_train_cv[feature_cols].values, data_train_cv['class'].values\n",
    "X_val, y_val = data_train_val[feature_cols].values, data_train_val['class'].values\n",
    "X_test, y_test = data_test[feature_cols].values, data_test['class'].values"
   ]
  },
  {
   "cell_type": "markdown",
   "metadata": {
    "Collapsed": "false",
    "incorrectly_encoded_metadata": "Collapsed=\"true\" toc-hr-collapsed=true toc-nb-collapsed=true"
   },
   "source": [
    "## Candidate Models Selection"
   ]
  },
  {
   "cell_type": "markdown",
   "metadata": {
    "Collapsed": "false",
    "incorrectly_encoded_metadata": "Collapsed=\"false\" toc-hr-collapsed=true toc-nb-collapsed=true"
   },
   "source": [
    "### Hyperparameter Search CV"
   ]
  },
  {
   "cell_type": "markdown",
   "metadata": {
    "Collapsed": "true",
    "incorrectly_encoded_metadata": "Collapsed=\"false\" toc-hr-collapsed=true toc-nb-collapsed=true"
   },
   "source": [
    "Pipeline:\n",
    " - Imputing\n",
    " - PCA\n",
    " - balancing:\n",
    " \n",
    "3 folds\n",
    "\n",
    "Random search of 42 iterations"
   ]
  },
  {
   "cell_type": "markdown",
   "metadata": {
    "Collapsed": "false"
   },
   "source": [
    "#### Pipeline"
   ]
  },
  {
   "cell_type": "code",
   "execution_count": 11,
   "metadata": {
    "Collapsed": "false"
   },
   "outputs": [],
   "source": [
    "estimator = Pipeline([\n",
    "    ('imputer', SimpleImputer(missing_values=np.nan, strategy='mean')),\n",
    "    ('clf', XGBClassifier(random_state=10)),\n",
    "])\n",
    "\n",
    "param_grid = {\n",
    "    'clf__max_depth': [2, 3, 4, 5, 6, 7],\n",
    "    'clf__n_estimators': [4, 8, 16, 32, 64, 128, 256],\n",
    "    'clf__learning_rate': [0.05, 0.1, 0.15, 0.2],\n",
    "    'clf__booster': ['gbtree', 'dart'],\n",
    "    'clf__min_child_weight': [ 1,  4, 16, 64],\n",
    "    'clf__subsample': [0.6, 0.7, 0.8, 0.9, 1],\n",
    "    'clf__colsample_bytree': [0.6, 0.7, 0.8, 0.9, 1]\n",
    "}"
   ]
  },
  {
   "cell_type": "markdown",
   "metadata": {
    "Collapsed": "false"
   },
   "source": [
    "#### Scorers"
   ]
  },
  {
   "cell_type": "code",
   "execution_count": 12,
   "metadata": {
    "Collapsed": "false"
   },
   "outputs": [],
   "source": [
    "def f1_at_fpr(y_true, y_score, fpr=0.05):\n",
    "    fprs, tprs, thresholds = roc_curve(y_true, y_score)\n",
    "    threshold = np.interp(fpr, fprs, thresholds)\n",
    "    y_pred = y_score >= threshold\n",
    "    return fbeta_score(y_true, y_pred, beta=5)\n",
    "\n",
    "def auc_at_fpr(y_true, y_score, fpr=0.05):\n",
    "    fprs, tprs, thresholds = roc_curve(y_true, y_score)\n",
    "    threshold = np.interp(fpr, fprs, thresholds)\n",
    "    mask = thresholds <= threshold\n",
    "    return auc(fprs[mask], tprs[mask])\n",
    "\n",
    "\n",
    "scorers = {\n",
    "    'auprg': make_scorer(auprg_score, needs_proba=True),\n",
    "    'f1': make_scorer(f1_score),\n",
    "    'accuracy': make_scorer(accuracy_score),\n",
    "    'auroc': make_scorer(roc_auc_score, needs_proba=True),\n",
    "}"
   ]
  },
  {
   "cell_type": "markdown",
   "metadata": {
    "Collapsed": "false"
   },
   "source": [
    "#### Run"
   ]
  },
  {
   "cell_type": "code",
   "execution_count": null,
   "metadata": {
    "Collapsed": "false"
   },
   "outputs": [
    {
     "name": "stdout",
     "output_type": "stream",
     "text": [
      "Fitting 10 folds for each of 160 candidates, totalling 1600 fits\n"
     ]
    },
    {
     "name": "stderr",
     "output_type": "stream",
     "text": [
      "[Parallel(n_jobs=32)]: Using backend LokyBackend with 32 concurrent workers.\n",
      "[Parallel(n_jobs=32)]: Done   8 tasks      | elapsed:    8.1s\n",
      "[Parallel(n_jobs=32)]: Done  21 tasks      | elapsed:  1.0min\n",
      "[Parallel(n_jobs=32)]: Done  34 tasks      | elapsed:  1.8min\n",
      "[Parallel(n_jobs=32)]: Done  49 tasks      | elapsed:  2.4min\n",
      "[Parallel(n_jobs=32)]: Done  64 tasks      | elapsed:  2.9min\n",
      "[Parallel(n_jobs=32)]: Done  81 tasks      | elapsed:  3.3min\n",
      "[Parallel(n_jobs=32)]: Done  98 tasks      | elapsed:  3.4min\n",
      "[Parallel(n_jobs=32)]: Done 117 tasks      | elapsed:  3.6min\n",
      "[Parallel(n_jobs=32)]: Done 136 tasks      | elapsed:  4.0min\n",
      "[Parallel(n_jobs=32)]: Done 157 tasks      | elapsed:  5.0min\n",
      "[Parallel(n_jobs=32)]: Done 178 tasks      | elapsed:  5.3min\n",
      "[Parallel(n_jobs=32)]: Done 201 tasks      | elapsed:  5.6min\n",
      "[Parallel(n_jobs=32)]: Done 224 tasks      | elapsed:  6.0min\n",
      "[Parallel(n_jobs=32)]: Done 249 tasks      | elapsed:  6.9min\n",
      "[Parallel(n_jobs=32)]: Done 274 tasks      | elapsed:  7.1min\n",
      "[Parallel(n_jobs=32)]: Done 301 tasks      | elapsed:  7.5min\n",
      "[Parallel(n_jobs=32)]: Done 328 tasks      | elapsed:  9.2min\n",
      "[Parallel(n_jobs=32)]: Done 357 tasks      | elapsed: 11.7min\n",
      "[Parallel(n_jobs=32)]: Done 386 tasks      | elapsed: 12.1min\n",
      "[Parallel(n_jobs=32)]: Done 417 tasks      | elapsed: 13.5min\n"
     ]
    }
   ],
   "source": [
    "%%time\n",
    "from sklearn.model_selection import RandomizedSearchCV\n",
    "from sklearn.model_selection import StratifiedKFold\n",
    "\n",
    "cv = StratifiedKFold(n_splits=10, shuffle=True, random_state=RANDOM_STATE)\n",
    "\n",
    "search_pipeline = RandomizedSearchCV(estimator, param_grid,\n",
    "                                     scoring=scorers,\n",
    "                                     n_jobs=N_JOBS,\n",
    "                                     verbose=10,\n",
    "                                     cv=cv,\n",
    "                                     refit=False,\n",
    "                                     n_iter=N_JOBS*5,\n",
    "                                     random_state=RANDOM_STATE\n",
    "                                    )\n",
    "\n",
    "search_pipeline.fit(X_train, y_train)"
   ]
  },
  {
   "cell_type": "markdown",
   "metadata": {
    "Collapsed": "false"
   },
   "source": [
    "### Analyze Results and Select Candidate Models"
   ]
  },
  {
   "cell_type": "code",
   "execution_count": 21,
   "metadata": {
    "Collapsed": "false"
   },
   "outputs": [],
   "source": [
    "cv_results = pd.DataFrame(search_pipeline.cv_results_)\n",
    "cv_results['param_clf__max_depth'] = cv_results['param_clf__max_depth'].astype(int)\n",
    "cv_results['param_clf__n_estimators'] = cv_results['param_clf__n_estimators'].astype(int)"
   ]
  },
  {
   "cell_type": "markdown",
   "metadata": {
    "Collapsed": "false"
   },
   "source": [
    "#### Correlation Between Ranks of Models by Metrics"
   ]
  },
  {
   "cell_type": "code",
   "execution_count": 22,
   "metadata": {
    "Collapsed": "false"
   },
   "outputs": [
    {
     "data": {
      "text/html": [
       "<div>\n",
       "<style scoped>\n",
       "    .dataframe tbody tr th:only-of-type {\n",
       "        vertical-align: middle;\n",
       "    }\n",
       "\n",
       "    .dataframe tbody tr th {\n",
       "        vertical-align: top;\n",
       "    }\n",
       "\n",
       "    .dataframe thead th {\n",
       "        text-align: right;\n",
       "    }\n",
       "</style>\n",
       "<table border=\"1\" class=\"dataframe\">\n",
       "  <thead>\n",
       "    <tr style=\"text-align: right;\">\n",
       "      <th></th>\n",
       "      <th>mean_fit_time</th>\n",
       "      <th>std_fit_time</th>\n",
       "      <th>mean_score_time</th>\n",
       "      <th>std_score_time</th>\n",
       "      <th>param_clf__subsample</th>\n",
       "      <th>param_clf__n_estimators</th>\n",
       "      <th>param_clf__min_child_weight</th>\n",
       "      <th>param_clf__max_depth</th>\n",
       "      <th>param_clf__learning_rate</th>\n",
       "      <th>param_clf__colsample_bytree</th>\n",
       "      <th>...</th>\n",
       "      <th>split3_test_auroc</th>\n",
       "      <th>split4_test_auroc</th>\n",
       "      <th>split5_test_auroc</th>\n",
       "      <th>split6_test_auroc</th>\n",
       "      <th>split7_test_auroc</th>\n",
       "      <th>split8_test_auroc</th>\n",
       "      <th>split9_test_auroc</th>\n",
       "      <th>mean_test_auroc</th>\n",
       "      <th>std_test_auroc</th>\n",
       "      <th>rank_test_auroc</th>\n",
       "    </tr>\n",
       "  </thead>\n",
       "  <tbody>\n",
       "    <tr>\n",
       "      <th>87</th>\n",
       "      <td>367.760865</td>\n",
       "      <td>7.643969</td>\n",
       "      <td>0.422910</td>\n",
       "      <td>0.017098</td>\n",
       "      <td>0.7</td>\n",
       "      <td>256</td>\n",
       "      <td>1</td>\n",
       "      <td>6</td>\n",
       "      <td>0.05</td>\n",
       "      <td>0.9</td>\n",
       "      <td>...</td>\n",
       "      <td>0.988504</td>\n",
       "      <td>0.990606</td>\n",
       "      <td>0.975614</td>\n",
       "      <td>0.984407</td>\n",
       "      <td>0.991503</td>\n",
       "      <td>0.991266</td>\n",
       "      <td>0.980977</td>\n",
       "      <td>0.988824</td>\n",
       "      <td>0.006445</td>\n",
       "      <td>34</td>\n",
       "    </tr>\n",
       "    <tr>\n",
       "      <th>140</th>\n",
       "      <td>345.983238</td>\n",
       "      <td>6.137372</td>\n",
       "      <td>0.362852</td>\n",
       "      <td>0.009952</td>\n",
       "      <td>0.8</td>\n",
       "      <td>256</td>\n",
       "      <td>1</td>\n",
       "      <td>7</td>\n",
       "      <td>0.2</td>\n",
       "      <td>0.9</td>\n",
       "      <td>...</td>\n",
       "      <td>0.989166</td>\n",
       "      <td>0.991647</td>\n",
       "      <td>0.974203</td>\n",
       "      <td>0.983377</td>\n",
       "      <td>0.988840</td>\n",
       "      <td>0.990318</td>\n",
       "      <td>0.981727</td>\n",
       "      <td>0.988216</td>\n",
       "      <td>0.006537</td>\n",
       "      <td>49</td>\n",
       "    </tr>\n",
       "    <tr>\n",
       "      <th>32</th>\n",
       "      <td>255.384220</td>\n",
       "      <td>5.941153</td>\n",
       "      <td>0.369802</td>\n",
       "      <td>0.013007</td>\n",
       "      <td>0.7</td>\n",
       "      <td>256</td>\n",
       "      <td>16</td>\n",
       "      <td>7</td>\n",
       "      <td>0.05</td>\n",
       "      <td>0.7</td>\n",
       "      <td>...</td>\n",
       "      <td>0.990956</td>\n",
       "      <td>0.986157</td>\n",
       "      <td>0.981123</td>\n",
       "      <td>0.984619</td>\n",
       "      <td>0.992068</td>\n",
       "      <td>0.991555</td>\n",
       "      <td>0.986798</td>\n",
       "      <td>0.989584</td>\n",
       "      <td>0.004790</td>\n",
       "      <td>15</td>\n",
       "    </tr>\n",
       "    <tr>\n",
       "      <th>33</th>\n",
       "      <td>245.625970</td>\n",
       "      <td>4.032555</td>\n",
       "      <td>0.382764</td>\n",
       "      <td>0.019302</td>\n",
       "      <td>0.9</td>\n",
       "      <td>256</td>\n",
       "      <td>16</td>\n",
       "      <td>5</td>\n",
       "      <td>0.1</td>\n",
       "      <td>0.7</td>\n",
       "      <td>...</td>\n",
       "      <td>0.993186</td>\n",
       "      <td>0.990747</td>\n",
       "      <td>0.983440</td>\n",
       "      <td>0.984031</td>\n",
       "      <td>0.992428</td>\n",
       "      <td>0.988599</td>\n",
       "      <td>0.988257</td>\n",
       "      <td>0.990641</td>\n",
       "      <td>0.004438</td>\n",
       "      <td>1</td>\n",
       "    </tr>\n",
       "    <tr>\n",
       "      <th>73</th>\n",
       "      <td>230.179536</td>\n",
       "      <td>4.066043</td>\n",
       "      <td>0.348096</td>\n",
       "      <td>0.020181</td>\n",
       "      <td>1</td>\n",
       "      <td>256</td>\n",
       "      <td>4</td>\n",
       "      <td>4</td>\n",
       "      <td>0.05</td>\n",
       "      <td>0.7</td>\n",
       "      <td>...</td>\n",
       "      <td>0.989878</td>\n",
       "      <td>0.988260</td>\n",
       "      <td>0.982023</td>\n",
       "      <td>0.986438</td>\n",
       "      <td>0.992570</td>\n",
       "      <td>0.991970</td>\n",
       "      <td>0.981920</td>\n",
       "      <td>0.989739</td>\n",
       "      <td>0.004912</td>\n",
       "      <td>12</td>\n",
       "    </tr>\n",
       "  </tbody>\n",
       "</table>\n",
       "<p>5 rows × 77 columns</p>\n",
       "</div>"
      ],
      "text/plain": [
       "     mean_fit_time  std_fit_time  mean_score_time  std_score_time  \\\n",
       "87      367.760865      7.643969         0.422910        0.017098   \n",
       "140     345.983238      6.137372         0.362852        0.009952   \n",
       "32      255.384220      5.941153         0.369802        0.013007   \n",
       "33      245.625970      4.032555         0.382764        0.019302   \n",
       "73      230.179536      4.066043         0.348096        0.020181   \n",
       "\n",
       "    param_clf__subsample  param_clf__n_estimators param_clf__min_child_weight  \\\n",
       "87                   0.7                      256                           1   \n",
       "140                  0.8                      256                           1   \n",
       "32                   0.7                      256                          16   \n",
       "33                   0.9                      256                          16   \n",
       "73                     1                      256                           4   \n",
       "\n",
       "     param_clf__max_depth param_clf__learning_rate  \\\n",
       "87                      6                     0.05   \n",
       "140                     7                      0.2   \n",
       "32                      7                     0.05   \n",
       "33                      5                      0.1   \n",
       "73                      4                     0.05   \n",
       "\n",
       "    param_clf__colsample_bytree  ... split3_test_auroc split4_test_auroc  \\\n",
       "87                          0.9  ...          0.988504          0.990606   \n",
       "140                         0.9  ...          0.989166          0.991647   \n",
       "32                          0.7  ...          0.990956          0.986157   \n",
       "33                          0.7  ...          0.993186          0.990747   \n",
       "73                          0.7  ...          0.989878          0.988260   \n",
       "\n",
       "     split5_test_auroc  split6_test_auroc  split7_test_auroc  \\\n",
       "87            0.975614           0.984407           0.991503   \n",
       "140           0.974203           0.983377           0.988840   \n",
       "32            0.981123           0.984619           0.992068   \n",
       "33            0.983440           0.984031           0.992428   \n",
       "73            0.982023           0.986438           0.992570   \n",
       "\n",
       "     split8_test_auroc  split9_test_auroc  mean_test_auroc  std_test_auroc  \\\n",
       "87            0.991266           0.980977         0.988824        0.006445   \n",
       "140           0.990318           0.981727         0.988216        0.006537   \n",
       "32            0.991555           0.986798         0.989584        0.004790   \n",
       "33            0.988599           0.988257         0.990641        0.004438   \n",
       "73            0.991970           0.981920         0.989739        0.004912   \n",
       "\n",
       "     rank_test_auroc  \n",
       "87                34  \n",
       "140               49  \n",
       "32                15  \n",
       "33                 1  \n",
       "73                12  \n",
       "\n",
       "[5 rows x 77 columns]"
      ]
     },
     "execution_count": 22,
     "metadata": {},
     "output_type": "execute_result"
    }
   ],
   "source": [
    "cv_results.sort_values('mean_fit_time', ascending=False).head()"
   ]
  },
  {
   "cell_type": "code",
   "execution_count": 23,
   "metadata": {
    "Collapsed": "false"
   },
   "outputs": [],
   "source": [
    "param_cols = cv_results.columns[cv_results.columns.str.startswith('param_')]\n",
    "mean_test_cols = cv_results.columns[cv_results.columns.str.startswith('mean_test_')]\n",
    "rank_test_cols = cv_results.columns[cv_results.columns.str.startswith('rank_test_')]"
   ]
  },
  {
   "cell_type": "code",
   "execution_count": 24,
   "metadata": {
    "Collapsed": "false"
   },
   "outputs": [
    {
     "name": "stdout",
     "output_type": "stream",
     "text": [
      "Metric: f1\n",
      "Params: {'param_clf__subsample': 0.8, 'param_clf__n_estimators': 256, 'param_clf__min_child_weight': 1, 'param_clf__max_depth': 7, 'param_clf__learning_rate': 0.2, 'param_clf__colsample_bytree': 0.9, 'param_clf__booster': 'dart'}\n",
      "Metric: auroc\n",
      "Params: {'param_clf__subsample': 0.9, 'param_clf__n_estimators': 256, 'param_clf__min_child_weight': 16, 'param_clf__max_depth': 5, 'param_clf__learning_rate': 0.1, 'param_clf__colsample_bytree': 0.7, 'param_clf__booster': 'dart'}\n"
     ]
    }
   ],
   "source": [
    "for metric in ['f1', 'auroc']:\n",
    "    print(f'Metric: {metric}')\n",
    "    print(f'Params: {cv_results.sort_values(f\"mean_test_{metric}\").iloc[-1][param_cols].to_dict()}')"
   ]
  },
  {
   "cell_type": "code",
   "execution_count": 25,
   "metadata": {
    "Collapsed": "false"
   },
   "outputs": [
    {
     "data": {
      "text/plain": [
       "<matplotlib.axes._subplots.AxesSubplot at 0x7fdd232c7a10>"
      ]
     },
     "execution_count": 25,
     "metadata": {},
     "output_type": "execute_result"
    },
    {
     "data": {
      "image/png": "[encoded data removed]",
      "text/plain": [
       "<Figure size 432x288 with 2 Axes>"
      ]
     },
     "metadata": {
      "needs_background": "light"
     },
     "output_type": "display_data"
    }
   ],
   "source": [
    "df = cv_results\n",
    "\n",
    "sns.heatmap(df[rank_test_cols].corr(), annot=True, cmap='PRGn', vmin=-1, vmax=1)"
   ]
  },
  {
   "cell_type": "code",
   "execution_count": 26,
   "metadata": {
    "Collapsed": "false"
   },
   "outputs": [
    {
     "data": {
      "image/png": "[encoded data removed]",
      "text/plain": [
       "<Figure size 720x720 with 20 Axes>"
      ]
     },
     "metadata": {
      "needs_background": "light"
     },
     "output_type": "display_data"
    }
   ],
   "source": [
    "df = cv_results[rank_test_cols].drop(columns=['rank_test_aupr']).copy()\n",
    "df = df.rename(columns={s: f'rank by {s.upper()[10:]}' for s in df.columns if s != 'accuracy'})\n",
    "sns.pairplot(df)\n",
    "plt.savefig('./images/scania/experiments_fault_detection_aps_pairplot.pdf', bbox_inches='tight')"
   ]
  },
  {
   "cell_type": "code",
   "execution_count": 30,
   "metadata": {
    "Collapsed": "false"
   },
   "outputs": [
    {
     "data": {
      "text/html": [
       "<div>\n",
       "<style scoped>\n",
       "    .dataframe tbody tr th:only-of-type {\n",
       "        vertical-align: middle;\n",
       "    }\n",
       "\n",
       "    .dataframe tbody tr th {\n",
       "        vertical-align: top;\n",
       "    }\n",
       "\n",
       "    .dataframe thead th {\n",
       "        text-align: right;\n",
       "    }\n",
       "</style>\n",
       "<table border=\"1\" class=\"dataframe\">\n",
       "  <thead>\n",
       "    <tr style=\"text-align: right;\">\n",
       "      <th></th>\n",
       "      <th>A</th>\n",
       "      <th>B</th>\n",
       "      <th>C</th>\n",
       "    </tr>\n",
       "  </thead>\n",
       "  <tbody>\n",
       "    <tr>\n",
       "      <th>rank by AUPR</th>\n",
       "      <td>20</td>\n",
       "      <td>1</td>\n",
       "      <td>2</td>\n",
       "    </tr>\n",
       "    <tr>\n",
       "      <th>rank by AUPRG</th>\n",
       "      <td>1</td>\n",
       "      <td>18</td>\n",
       "      <td>33</td>\n",
       "    </tr>\n",
       "    <tr>\n",
       "      <th>rank by F1</th>\n",
       "      <td>23</td>\n",
       "      <td>3</td>\n",
       "      <td>1</td>\n",
       "    </tr>\n",
       "    <tr>\n",
       "      <th>rank by ACCURACY</th>\n",
       "      <td>23</td>\n",
       "      <td>2</td>\n",
       "      <td>1</td>\n",
       "    </tr>\n",
       "    <tr>\n",
       "      <th>rank by AUROC</th>\n",
       "      <td>1</td>\n",
       "      <td>34</td>\n",
       "      <td>49</td>\n",
       "    </tr>\n",
       "    <tr>\n",
       "      <th>param_clf__subsample</th>\n",
       "      <td>0.9</td>\n",
       "      <td>0.7</td>\n",
       "      <td>0.8</td>\n",
       "    </tr>\n",
       "    <tr>\n",
       "      <th>param_clf__n_estimators</th>\n",
       "      <td>256</td>\n",
       "      <td>256</td>\n",
       "      <td>256</td>\n",
       "    </tr>\n",
       "    <tr>\n",
       "      <th>param_clf__min_child_weight</th>\n",
       "      <td>16</td>\n",
       "      <td>1</td>\n",
       "      <td>1</td>\n",
       "    </tr>\n",
       "    <tr>\n",
       "      <th>param_clf__max_depth</th>\n",
       "      <td>5</td>\n",
       "      <td>6</td>\n",
       "      <td>7</td>\n",
       "    </tr>\n",
       "    <tr>\n",
       "      <th>param_clf__learning_rate</th>\n",
       "      <td>0.1</td>\n",
       "      <td>0.05</td>\n",
       "      <td>0.2</td>\n",
       "    </tr>\n",
       "    <tr>\n",
       "      <th>param_clf__colsample_bytree</th>\n",
       "      <td>0.7</td>\n",
       "      <td>0.9</td>\n",
       "      <td>0.9</td>\n",
       "    </tr>\n",
       "    <tr>\n",
       "      <th>param_clf__booster</th>\n",
       "      <td>dart</td>\n",
       "      <td>dart</td>\n",
       "      <td>dart</td>\n",
       "    </tr>\n",
       "    <tr>\n",
       "      <th>AUPR</th>\n",
       "      <td>0.884307</td>\n",
       "      <td>0.896259</td>\n",
       "      <td>0.893736</td>\n",
       "    </tr>\n",
       "    <tr>\n",
       "      <th>AUPRG</th>\n",
       "      <td>0.999812</td>\n",
       "      <td>0.999784</td>\n",
       "      <td>0.999767</td>\n",
       "    </tr>\n",
       "    <tr>\n",
       "      <th>F1</th>\n",
       "      <td>0.808412</td>\n",
       "      <td>0.820482</td>\n",
       "      <td>0.831349</td>\n",
       "    </tr>\n",
       "    <tr>\n",
       "      <th>ACCURACY</th>\n",
       "      <td>0.994146</td>\n",
       "      <td>0.994563</td>\n",
       "      <td>0.994875</td>\n",
       "    </tr>\n",
       "    <tr>\n",
       "      <th>AUROC</th>\n",
       "      <td>0.990641</td>\n",
       "      <td>0.988824</td>\n",
       "      <td>0.988216</td>\n",
       "    </tr>\n",
       "  </tbody>\n",
       "</table>\n",
       "</div>"
      ],
      "text/plain": [
       "                                    A         B         C\n",
       "rank by AUPR                       20         1         2\n",
       "rank by AUPRG                       1        18        33\n",
       "rank by F1                         23         3         1\n",
       "rank by ACCURACY                   23         2         1\n",
       "rank by AUROC                       1        34        49\n",
       "param_clf__subsample              0.9       0.7       0.8\n",
       "param_clf__n_estimators           256       256       256\n",
       "param_clf__min_child_weight        16         1         1\n",
       "param_clf__max_depth                5         6         7\n",
       "param_clf__learning_rate          0.1      0.05       0.2\n",
       "param_clf__colsample_bytree       0.7       0.9       0.9\n",
       "param_clf__booster               dart      dart      dart\n",
       "AUPR                         0.884307  0.896259  0.893736\n",
       "AUPRG                        0.999812  0.999784  0.999767\n",
       "F1                           0.808412  0.820482  0.831349\n",
       "ACCURACY                     0.994146  0.994563  0.994875\n",
       "AUROC                        0.990641  0.988824  0.988216"
      ]
     },
     "metadata": {},
     "output_type": "display_data"
    }
   ],
   "source": [
    "import string\n",
    "\n",
    "df = (\n",
    "    cv_results\n",
    "    .copy()\n",
    "    .loc[lambda df: df[rank_test_cols].min(axis=1).le(1),\n",
    "         [*rank_test_cols, *param_cols, *mean_test_cols]]\n",
    "    .reset_index(drop=True)\n",
    ")\n",
    "df[mean_test_cols] = df[mean_test_cols].astype(float).round(10)\n",
    "df = df.rename(columns={s: f'rank by {s.upper()[10:]}' for s in rank_test_cols})\n",
    "df = df.rename(columns={s: f'{s.upper()[10:]}' for s in mean_test_cols})\n",
    "df = df.T\n",
    "df.columns = list(string.ascii_uppercase[:df.columns.shape[0]])\n",
    "df.to_latex('./images/scania/candidate_models.tex')\n",
    "display(df)\n",
    "\n",
    "selected_models_parameters = df"
   ]
  },
  {
   "cell_type": "code",
   "execution_count": 31,
   "metadata": {
    "Collapsed": "false"
   },
   "outputs": [
    {
     "data": {
      "text/plain": [
       "{'auroc': Pipeline(memory=None,\n",
       "          steps=[('imputer',\n",
       "                  SimpleImputer(add_indicator=False, copy=True, fill_value=None,\n",
       "                                missing_values=nan, strategy='mean',\n",
       "                                verbose=0)),\n",
       "                 ('clf',\n",
       "                  XGBClassifier(base_score=0.5, booster='dart',\n",
       "                                colsample_bylevel=1, colsample_bynode=1,\n",
       "                                colsample_bytree=0.7, gamma=0, gpu_id=-1,\n",
       "                                importance_type='gain',\n",
       "                                interaction_constraints=None, learning_rate=0.1,\n",
       "                                max_delta_step=0, max_depth=5,\n",
       "                                min_child_weight=16, missing=nan,\n",
       "                                monotone_constraints=None, n_estimators=256,\n",
       "                                n_jobs=32, num_parallel_tree=1,\n",
       "                                objective='binary:logistic', random_state=7,\n",
       "                                reg_alpha=0, reg_lambda=1, scale_pos_weight=1,\n",
       "                                subsample=0.9, tree_method=None,\n",
       "                                validate_parameters=False, verbosity=None))],\n",
       "          verbose=False),\n",
       " 'f1': Pipeline(memory=None,\n",
       "          steps=[('imputer',\n",
       "                  SimpleImputer(add_indicator=False, copy=True, fill_value=None,\n",
       "                                missing_values=nan, strategy='mean',\n",
       "                                verbose=0)),\n",
       "                 ('clf',\n",
       "                  XGBClassifier(base_score=0.5, booster='dart',\n",
       "                                colsample_bylevel=1, colsample_bynode=1,\n",
       "                                colsample_bytree=0.9, gamma=0, gpu_id=-1,\n",
       "                                importance_type='gain',\n",
       "                                interaction_constraints=None, learning_rate=0.2,\n",
       "                                max_delta_step=0, max_depth=7,\n",
       "                                min_child_weight=1, missing=nan,\n",
       "                                monotone_constraints=None, n_estimators=256,\n",
       "                                n_jobs=32, num_parallel_tree=1,\n",
       "                                objective='binary:logistic', random_state=7,\n",
       "                                reg_alpha=0, reg_lambda=1, scale_pos_weight=1,\n",
       "                                subsample=0.8, tree_method=None,\n",
       "                                validate_parameters=False, verbosity=None))],\n",
       "          verbose=False)}"
      ]
     },
     "execution_count": 31,
     "metadata": {},
     "output_type": "execute_result"
    }
   ],
   "source": [
    "models = dict()\n",
    "for metric in ['auroc', 'f1']:\n",
    "    df = cv_results.loc[cv_results[f'rank_test_{metric}'].eq(1), param_cols]\n",
    "    df.columns = df.columns.str[11:]\n",
    "    model_params = df.iloc[0].to_dict()\n",
    "    model = Pipeline([\n",
    "        ('imputer', SimpleImputer(missing_values=np.nan, strategy='mean')),\n",
    "        ('clf', XGBClassifier(**model_params, n_jobs=N_JOBS, random_state=RANDOM_STATE)),\n",
    "    ])\n",
    "    model.fit(X_train, y_train)\n",
    "    models[metric] = model\n",
    "models"
   ]
  },
  {
   "cell_type": "markdown",
   "metadata": {
    "Collapsed": "false"
   },
   "source": [
    "## Final Model and Decision Threshold Selection\n",
    "\n",
    "From the domain, we have a cost function for FPs and FNs:\n",
    "  - \\\\$10 per FP\n",
    "  - \\\\$500 per FN\n",
    " \n",
    "The goal is to minimize the costs. Therefore, we select the threshold where the minimal cost is."
   ]
  },
  {
   "cell_type": "code",
   "execution_count": 32,
   "metadata": {
    "Collapsed": "false"
   },
   "outputs": [
    {
     "data": {
      "image/png": "[encoded data removed]",
      "text/plain": [
       "<Figure size 720x432 with 2 Axes>"
      ]
     },
     "metadata": {
      "needs_background": "light"
     },
     "output_type": "display_data"
    },
    {
     "data": {
      "image/png": "[encoded data removed]",
      "text/plain": [
       "<Figure size 720x432 with 2 Axes>"
      ]
     },
     "metadata": {
      "needs_background": "light"
     },
     "output_type": "display_data"
    }
   ],
   "source": [
    "def plot_precision_recall_costs(y_true, y_proba,\n",
    "                                fp_cost=10, fn_cost=500,\n",
    "                                log_scale_threshold=True,\n",
    "                                log_scale_cost=True\n",
    "                               ):\n",
    "    \n",
    "    def cost_function(y_true, y_pred):\n",
    "        fp = np.sum((y_true - y_pred) == -1)\n",
    "        fn = np.sum((y_true - y_pred) == 1)\n",
    "        return (fp * fp_cost + fn * fn_cost).astype(int)\n",
    "    \n",
    "    precisions, recalls, thresholds = precision_recall_curve(y_true, y_proba)\n",
    "    thresholds = np.r_[thresholds, 1]\n",
    "\n",
    "    costs = []\n",
    "    fps = []\n",
    "    fns = []\n",
    "    \n",
    "    for threshold in thresholds:\n",
    "        y_pred = y_proba >= threshold\n",
    "        fp = np.sum((y_true - y_pred) == -1)\n",
    "        fn = np.sum((y_true - y_pred) == 1)\n",
    "        costs.append(cost_function(y_true, y_pred))\n",
    "\n",
    "    best_index = np.argmin(costs)\n",
    "    threshold = thresholds[best_index]\n",
    "    cost = np.round(costs[best_index], 2)\n",
    "    precision = np.round(precisions[best_index], 2)\n",
    "    recall = np.round(recalls[best_index], 2)\n",
    "    f1 = np.round(2*precision*recall / (precision + recall), 2)\n",
    "    \n",
    "    fig, ax1 = plt.subplots(figsize=(10, 6))\n",
    "    \n",
    "    xlabel = 'Threshold'\n",
    "    if log_scale_threshold:\n",
    "        xlabel += ' (log-scale)'\n",
    "        plt.xscale('log')\n",
    "    plt.xlabel(xlabel)\n",
    "\n",
    "    lns1 = ax1.plot(thresholds, recalls, color='blue', label='Recall')\n",
    "    lns2 = ax1.plot(thresholds, precisions, color='green', label='Precision')\n",
    "    \n",
    "    ax2 = ax1.twinx()\n",
    "    lns4 = ax2.plot(thresholds, costs, color='orange', label='Cost')    \n",
    "    cost_label = 'Cost'\n",
    "    if log_scale_cost:\n",
    "        ax2.set_yscale('log')\n",
    "        cost_label += ' (log-scale)'\n",
    "    ax2.set_ylabel(cost_label)\n",
    "    \n",
    "    # Annotate\n",
    "    ax2.annotate(xy=(threshold, cost),\n",
    "                 xytext=(threshold, cost*2),\n",
    "                 arrowprops=dict(\n",
    "                     facecolor='black',\n",
    "                     shrink=0.05,\n",
    "                     headwidth=10,\n",
    "                     width=2,\n",
    "                 ),\n",
    "                 s=f'Lowest cost = {cost}\\n'\n",
    "                   f'Threshold = {threshold:.1e}\\n'\n",
    "                   f'Recall = {recall}\\n'\n",
    "                   f'Precision = {precision}'\n",
    "            )\n",
    "    ax1.set_ylabel('precision, recall')\n",
    "    \n",
    "    lns = lns1+lns2+lns4\n",
    "    labs = [l.get_label() for l in lns]\n",
    "    ax1.legend(lns, labs, loc=0)\n",
    "    ax1.grid()\n",
    "    return costs, thresholds, precisions, recalls\n",
    "\n",
    "for metric in ['auroc', 'f1']:\n",
    "    y_score = models[metric].predict_proba(X_val)[:, 1]\n",
    "    costs, thresholds, precisions, recalls = \\\n",
    "        plot_precision_recall_costs(y_val, y_score, log_scale_threshold=True)\n",
    "    best_threshold = thresholds[np.argmin(costs)]\n",
    "    plt.savefig(f'./images/scania/experiments_fault_detection_aps_cost_threshold_{metric}.pdf', bbox_inches='tight')"
   ]
  },
  {
   "cell_type": "code",
   "execution_count": 35,
   "metadata": {
    "Collapsed": "false"
   },
   "outputs": [
    {
     "data": {
      "image/png": "[encoded data removed]",
      "text/plain": [
       "<Figure size 432x288 with 1 Axes>"
      ]
     },
     "metadata": {
      "needs_background": "light"
     },
     "output_type": "display_data"
    }
   ],
   "source": [
    "fig, ax = plt.subplots()\n",
    "for metric in ['auroc', 'f1']:\n",
    "    plot_precision_recall_curve(models[metric], X_val, y_val, ax=ax, label=metric)"
   ]
  },
  {
   "cell_type": "markdown",
   "metadata": {
    "Collapsed": "false"
   },
   "source": [
    "## Final Model Evaluation"
   ]
  },
  {
   "cell_type": "markdown",
   "metadata": {
    "Collapsed": "false"
   },
   "source": [
    "Evaluation on the test set."
   ]
  },
  {
   "cell_type": "code",
   "execution_count": null,
   "metadata": {
    "Collapsed": "false"
   },
   "outputs": [],
   "source": [
    "def cost_function(y_true, y_pred):\n",
    "    fp = np.sum((y_true - y_pred) == -1)\n",
    "    fn = np.sum((y_true - y_pred) == 1)\n",
    "    return (fp * 10 + fn * 500).astype(int)\n",
    "\n",
    "y_test_pred = models['auroc'].predict_proba(X_test)[:, 1] >= best_threshold\n",
    "\n",
    "print(f'Accuracy: {np.round(accuracy_score(y_test, y_test_pred), 2)}')\n",
    "print(f'Recall: {np.round(recall_score(y_test, y_test_pred), 2)}')\n",
    "print(f'Precision: {np.round(precision_score(y_test, y_test_pred), 2)}')\n",
    "print(f'F1 score: {np.round(f1_score(y_test, y_test_pred), 2)}')\n",
    "print(f'Cost: {np.round(cost_function(y_test, y_test_pred), 2)}')"
   ]
  }
 ],
 "metadata": {
  "jupytext": {
   "formats": "ipynb,md"
  },
  "kernelspec": {
   "display_name": "pmlib",
   "language": "python",
   "name": "pmlib"
  },
  "language_info": {
   "codemirror_mode": {
    "name": "ipython",
    "version": 3
   },
   "file_extension": ".py",
   "mimetype": "text/x-python",
   "name": "python",
   "nbconvert_exporter": "python",
   "pygments_lexer": "ipython3",
   "version": "3.7.6"
  }
 },
 "nbformat": 4,
 "nbformat_minor": 4
}
